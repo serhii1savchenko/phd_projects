{
 "cells": [
  {
   "cell_type": "code",
   "execution_count": 1,
   "id": "fad255a8",
   "metadata": {},
   "outputs": [
    {
     "name": "stderr",
     "output_type": "stream",
     "text": [
      "D:\\soft\\Anaconda\\envs\\new_env\\lib\\site-packages\\ipykernel_launcher.py:13: SettingWithCopyWarning: \n",
      "A value is trying to be set on a copy of a slice from a DataFrame.\n",
      "Try using .loc[row_indexer,col_indexer] = value instead\n",
      "\n",
      "See the caveats in the documentation: https://pandas.pydata.org/pandas-docs/stable/user_guide/indexing.html#returning-a-view-versus-a-copy\n",
      "  del sys.path[0]\n"
     ]
    }
   ],
   "source": [
    "import yfinance as yf\n",
    "import pandas\n",
    "import numpy\n",
    "from math import sqrt\n",
    "from sklearn.model_selection import train_test_split\n",
    "from sklearn.linear_model import LinearRegression\n",
    "from sklearn.metrics import mean_squared_error\n",
    "\n",
    "tickers = ['AAPL', 'GOOG', 'MSFT', 'AMZN', 'INTC', 'AMD', 'NVDA', 'F', 'TSLA', 'JPM', 'MS', 'VOO']\n",
    "\n",
    "def get_monthly_data_from_yf(ticker, start_date, end_date):\n",
    "    data = yf.download(ticker, start_date, end_date, interval='1mo', progress=False).dropna()\n",
    "    data['Close-Previous-Month'] = data['Close'].shift(1)\n",
    "    return data.dropna()\n",
    "\n",
    "# Get data for all tickers 2012 - 2021\n",
    "data_ten_years = {}\n",
    "for ticker in tickers:\n",
    "    data_ten_years[ticker] = get_monthly_data_from_yf(ticker, '2012-01-01', '2022-01-01')"
   ]
  },
  {
   "cell_type": "code",
   "execution_count": 2,
   "id": "2daa982c",
   "metadata": {},
   "outputs": [],
   "source": [
    "def mlr_predict_close_price(data, ticker):\n",
    "    dataset = data[ticker]\n",
    "    X = dataset[['Close-Previous-Month']].values\n",
    "    y = dataset['Close'].values\n",
    "    X_train, X_test, y_train, y_test = train_test_split(X, y, test_size = 0.33, random_state = 0, shuffle = False)\n",
    "    regressor = LinearRegression()\n",
    "    regressor.fit(X_train, y_train)\n",
    "    y_pred = regressor.predict(X_test)\n",
    "    next_month_pred = regressor.predict([[y[len(y)-1]]])\n",
    "    rmse = sqrt(mean_squared_error(y_test, y_pred))\n",
    "    return [next_month_pred, rmse]"
   ]
  },
  {
   "cell_type": "code",
   "execution_count": 3,
   "id": "446e7ad1",
   "metadata": {},
   "outputs": [
    {
     "name": "stdout",
     "output_type": "stream",
     "text": [
      "AAPL \t RMSE = 8.213356570078494 \t Next Close Price prediction = 182.86104245650768\n",
      "GOOG \t RMSE = 6.188487510992034 \t Next Close Price prediction = 146.18793306019006\n",
      "MSFT \t RMSE = 11.845219781435198 \t Next Close Price prediction = 348.18188994312834\n",
      "AMZN \t RMSE = 11.291925837218503 \t Next Close Price prediction = 175.9450267369508\n",
      "INTC \t RMSE = 4.168178885372773 \t Next Close Price prediction = 51.614873596547504\n",
      "AMD \t RMSE = 9.974305061390526 \t Next Close Price prediction = 154.71172816232007\n",
      "NVDA \t RMSE = 17.377888484898726 \t Next Close Price prediction = 306.1588819490616\n",
      "F \t RMSE = 1.1897093288610803 \t Next Close Price prediction = 20.37149645111885\n",
      "TSLA \t RMSE = 30.074918521243497 \t Next Close Price prediction = 337.2011023520436\n",
      "JPM \t RMSE = 8.953948964415655 \t Next Close Price prediction = 159.54669143130644\n",
      "MS \t RMSE = 5.350830305127152 \t Next Close Price prediction = 97.2808310066976\n",
      "VOO \t RMSE = 15.178946083128954 \t Next Close Price prediction = 438.97776456396764\n"
     ]
    }
   ],
   "source": [
    "predictions_next_month_close_price = {}\n",
    "for ticker in tickers:\n",
    "    prediction_and_rmse = mlr_predict_close_price(data_ten_years, ticker)\n",
    "    prediction = prediction_and_rmse[0][0]\n",
    "    rmse = prediction_and_rmse[1]\n",
    "    predictions_next_month_close_price[ticker] = prediction\n",
    "    print(ticker, \"\\t RMSE =\", rmse, \"\\t Next Close Price prediction =\", prediction)"
   ]
  },
  {
   "cell_type": "code",
   "execution_count": 4,
   "id": "566aec47",
   "metadata": {},
   "outputs": [
    {
     "name": "stdout",
     "output_type": "stream",
     "text": [
      "[*********************100%***********************]  12 of 12 completed\n"
     ]
    },
    {
     "data": {
      "text/html": [
       "<div>\n",
       "<style scoped>\n",
       "    .dataframe tbody tr th:only-of-type {\n",
       "        vertical-align: middle;\n",
       "    }\n",
       "\n",
       "    .dataframe tbody tr th {\n",
       "        vertical-align: top;\n",
       "    }\n",
       "\n",
       "    .dataframe thead th {\n",
       "        text-align: right;\n",
       "    }\n",
       "</style>\n",
       "<table border=\"1\" class=\"dataframe\">\n",
       "  <thead>\n",
       "    <tr style=\"text-align: right;\">\n",
       "      <th></th>\n",
       "      <th>AAPL</th>\n",
       "      <th>AMD</th>\n",
       "      <th>AMZN</th>\n",
       "      <th>F</th>\n",
       "      <th>GOOG</th>\n",
       "      <th>INTC</th>\n",
       "      <th>JPM</th>\n",
       "      <th>MS</th>\n",
       "      <th>MSFT</th>\n",
       "      <th>NVDA</th>\n",
       "      <th>TSLA</th>\n",
       "      <th>VOO</th>\n",
       "    </tr>\n",
       "  </thead>\n",
       "  <tbody>\n",
       "    <tr>\n",
       "      <th>2021-09-01</th>\n",
       "      <td>141.500000</td>\n",
       "      <td>102.900002</td>\n",
       "      <td>164.251999</td>\n",
       "      <td>14.160000</td>\n",
       "      <td>133.265503</td>\n",
       "      <td>53.279999</td>\n",
       "      <td>163.690002</td>\n",
       "      <td>97.309998</td>\n",
       "      <td>281.920013</td>\n",
       "      <td>207.160004</td>\n",
       "      <td>258.493347</td>\n",
       "      <td>394.399994</td>\n",
       "    </tr>\n",
       "    <tr>\n",
       "      <th>2021-10-01</th>\n",
       "      <td>149.800003</td>\n",
       "      <td>120.230003</td>\n",
       "      <td>168.621506</td>\n",
       "      <td>17.080000</td>\n",
       "      <td>148.270493</td>\n",
       "      <td>49.000000</td>\n",
       "      <td>169.889999</td>\n",
       "      <td>102.779999</td>\n",
       "      <td>331.619995</td>\n",
       "      <td>255.669998</td>\n",
       "      <td>371.333344</td>\n",
       "      <td>422.160004</td>\n",
       "    </tr>\n",
       "    <tr>\n",
       "      <th>2021-11-01</th>\n",
       "      <td>165.300003</td>\n",
       "      <td>158.369995</td>\n",
       "      <td>175.353500</td>\n",
       "      <td>19.190001</td>\n",
       "      <td>142.451996</td>\n",
       "      <td>49.200001</td>\n",
       "      <td>158.830002</td>\n",
       "      <td>94.820000</td>\n",
       "      <td>330.589996</td>\n",
       "      <td>326.760010</td>\n",
       "      <td>381.586670</td>\n",
       "      <td>419.059998</td>\n",
       "    </tr>\n",
       "    <tr>\n",
       "      <th>2021-12-01</th>\n",
       "      <td>177.570007</td>\n",
       "      <td>143.899994</td>\n",
       "      <td>166.716995</td>\n",
       "      <td>20.770000</td>\n",
       "      <td>144.679504</td>\n",
       "      <td>51.500000</td>\n",
       "      <td>158.350006</td>\n",
       "      <td>98.160004</td>\n",
       "      <td>336.320007</td>\n",
       "      <td>294.109985</td>\n",
       "      <td>352.260010</td>\n",
       "      <td>436.570007</td>\n",
       "    </tr>\n",
       "    <tr>\n",
       "      <th>2022-01-01</th>\n",
       "      <td>182.861042</td>\n",
       "      <td>154.711728</td>\n",
       "      <td>175.945027</td>\n",
       "      <td>20.371496</td>\n",
       "      <td>146.187933</td>\n",
       "      <td>51.614874</td>\n",
       "      <td>159.546691</td>\n",
       "      <td>97.280831</td>\n",
       "      <td>348.181890</td>\n",
       "      <td>306.158882</td>\n",
       "      <td>337.201102</td>\n",
       "      <td>438.977765</td>\n",
       "    </tr>\n",
       "  </tbody>\n",
       "</table>\n",
       "</div>"
      ],
      "text/plain": [
       "                  AAPL         AMD        AMZN          F        GOOG  \\\n",
       "2021-09-01  141.500000  102.900002  164.251999  14.160000  133.265503   \n",
       "2021-10-01  149.800003  120.230003  168.621506  17.080000  148.270493   \n",
       "2021-11-01  165.300003  158.369995  175.353500  19.190001  142.451996   \n",
       "2021-12-01  177.570007  143.899994  166.716995  20.770000  144.679504   \n",
       "2022-01-01  182.861042  154.711728  175.945027  20.371496  146.187933   \n",
       "\n",
       "                 INTC         JPM          MS        MSFT        NVDA  \\\n",
       "2021-09-01  53.279999  163.690002   97.309998  281.920013  207.160004   \n",
       "2021-10-01  49.000000  169.889999  102.779999  331.619995  255.669998   \n",
       "2021-11-01  49.200001  158.830002   94.820000  330.589996  326.760010   \n",
       "2021-12-01  51.500000  158.350006   98.160004  336.320007  294.109985   \n",
       "2022-01-01  51.614874  159.546691   97.280831  348.181890  306.158882   \n",
       "\n",
       "                  TSLA         VOO  \n",
       "2021-09-01  258.493347  394.399994  \n",
       "2021-10-01  371.333344  422.160004  \n",
       "2021-11-01  381.586670  419.059998  \n",
       "2021-12-01  352.260010  436.570007  \n",
       "2022-01-01  337.201102  438.977765  "
      ]
     },
     "execution_count": 4,
     "metadata": {},
     "output_type": "execute_result"
    }
   ],
   "source": [
    "import datetime\n",
    "data_for_portfolio = yf.download(tickers, start='2020-01-01', end='2022-01-01', interval='1mo')['Close'].dropna()\n",
    "d = datetime.datetime.strptime(\"01/01/2022\",\"%d/%m/%Y\")\n",
    "data_for_portfolio_with_prediction = data_for_portfolio.append(pandas.DataFrame(index=[d]))\n",
    "for ticker in tickers:\n",
    "    data_for_portfolio_with_prediction.loc[d, ticker] = predictions_next_month_close_price[ticker]\n",
    "\n",
    "data_for_portfolio_with_prediction.tail()"
   ]
  },
  {
   "cell_type": "code",
   "execution_count": 5,
   "id": "c7051a5c",
   "metadata": {},
   "outputs": [
    {
     "name": "stdout",
     "output_type": "stream",
     "text": [
      "OrderedDict([('AAPL', 0.0), ('AMD', 0.00925), ('AMZN', 0.14413), ('F', 0.03003), ('GOOG', 0.05887), ('INTC', 0.23252), ('JPM', 0.10767), ('MS', 0.0), ('MSFT', 0.1716), ('NVDA', 0.09668), ('TSLA', 0.0), ('VOO', 0.14926)])\n",
      "- - -\n",
      "Expected annual return: 31.2%\n",
      "Annual volatility: 16.7%\n",
      "Sharpe Ratio: 1.75\n"
     ]
    },
    {
     "data": {
      "text/plain": [
       "(0.3116805524162408, 0.16706303991595814, 1.7459310722645303)"
      ]
     },
     "execution_count": 5,
     "metadata": {},
     "output_type": "execute_result"
    }
   ],
   "source": [
    "from pypfopt.expected_returns import mean_historical_return\n",
    "from pypfopt.risk_models import CovarianceShrinkage\n",
    "from pypfopt.efficient_frontier import EfficientFrontier\n",
    "from pypfopt.discrete_allocation import DiscreteAllocation, get_latest_prices\n",
    "\n",
    "### Portfolio based on real data + next month prediction\n",
    "mu = mean_historical_return(data_for_portfolio_with_prediction, frequency=12)\n",
    "S = CovarianceShrinkage(data_for_portfolio_with_prediction, frequency=12).ledoit_wolf()\n",
    "ef = EfficientFrontier(mu, S, weight_bounds=(0,1))\n",
    "#weights = ef.max_sharpe()\n",
    "weights = ef.min_volatility()\n",
    "cleaned_weights = ef.clean_weights()\n",
    "print(cleaned_weights)\n",
    "print('- - -')\n",
    "ef.portfolio_performance(verbose=True)"
   ]
  },
  {
   "cell_type": "code",
   "execution_count": null,
   "id": "ca26e1df",
   "metadata": {},
   "outputs": [],
   "source": []
  }
 ],
 "metadata": {
  "kernelspec": {
   "display_name": "Python 3 (ipykernel)",
   "language": "python",
   "name": "python3"
  },
  "language_info": {
   "codemirror_mode": {
    "name": "ipython",
    "version": 3
   },
   "file_extension": ".py",
   "mimetype": "text/x-python",
   "name": "python",
   "nbconvert_exporter": "python",
   "pygments_lexer": "ipython3",
   "version": "3.7.9"
  }
 },
 "nbformat": 4,
 "nbformat_minor": 5
}
