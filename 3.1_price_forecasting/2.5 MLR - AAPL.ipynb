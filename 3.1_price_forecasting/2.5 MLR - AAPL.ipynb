{
 "cells": [
  {
   "cell_type": "code",
   "execution_count": 1,
   "id": "c1ee7626",
   "metadata": {},
   "outputs": [
    {
     "data": {
      "text/html": [
       "<div>\n",
       "<style scoped>\n",
       "    .dataframe tbody tr th:only-of-type {\n",
       "        vertical-align: middle;\n",
       "    }\n",
       "\n",
       "    .dataframe tbody tr th {\n",
       "        vertical-align: top;\n",
       "    }\n",
       "\n",
       "    .dataframe thead th {\n",
       "        text-align: right;\n",
       "    }\n",
       "</style>\n",
       "<table border=\"1\" class=\"dataframe\">\n",
       "  <thead>\n",
       "    <tr style=\"text-align: right;\">\n",
       "      <th></th>\n",
       "      <th>Date</th>\n",
       "      <th>Open</th>\n",
       "      <th>High</th>\n",
       "      <th>Low</th>\n",
       "      <th>Close</th>\n",
       "      <th>Adj Close</th>\n",
       "      <th>Volume</th>\n",
       "      <th>Volume-Previous-Day</th>\n",
       "    </tr>\n",
       "  </thead>\n",
       "  <tbody>\n",
       "    <tr>\n",
       "      <th>1</th>\n",
       "      <td>2019-12-18</td>\n",
       "      <td>69.949997</td>\n",
       "      <td>70.474998</td>\n",
       "      <td>69.779999</td>\n",
       "      <td>69.934998</td>\n",
       "      <td>68.911400</td>\n",
       "      <td>116028400</td>\n",
       "      <td>114158400.0</td>\n",
       "    </tr>\n",
       "    <tr>\n",
       "      <th>2</th>\n",
       "      <td>2019-12-19</td>\n",
       "      <td>69.875000</td>\n",
       "      <td>70.294998</td>\n",
       "      <td>69.737503</td>\n",
       "      <td>70.004997</td>\n",
       "      <td>68.980354</td>\n",
       "      <td>98369200</td>\n",
       "      <td>116028400.0</td>\n",
       "    </tr>\n",
       "    <tr>\n",
       "      <th>3</th>\n",
       "      <td>2019-12-20</td>\n",
       "      <td>70.557503</td>\n",
       "      <td>70.662498</td>\n",
       "      <td>69.639999</td>\n",
       "      <td>69.860001</td>\n",
       "      <td>68.837479</td>\n",
       "      <td>275978000</td>\n",
       "      <td>98369200.0</td>\n",
       "    </tr>\n",
       "    <tr>\n",
       "      <th>4</th>\n",
       "      <td>2019-12-23</td>\n",
       "      <td>70.132500</td>\n",
       "      <td>71.062500</td>\n",
       "      <td>70.092499</td>\n",
       "      <td>71.000000</td>\n",
       "      <td>69.960808</td>\n",
       "      <td>98572000</td>\n",
       "      <td>275978000.0</td>\n",
       "    </tr>\n",
       "    <tr>\n",
       "      <th>5</th>\n",
       "      <td>2019-12-24</td>\n",
       "      <td>71.172501</td>\n",
       "      <td>71.222504</td>\n",
       "      <td>70.730003</td>\n",
       "      <td>71.067497</td>\n",
       "      <td>70.027313</td>\n",
       "      <td>48478800</td>\n",
       "      <td>98572000.0</td>\n",
       "    </tr>\n",
       "  </tbody>\n",
       "</table>\n",
       "</div>"
      ],
      "text/plain": [
       "         Date       Open       High        Low      Close  Adj Close  \\\n",
       "1  2019-12-18  69.949997  70.474998  69.779999  69.934998  68.911400   \n",
       "2  2019-12-19  69.875000  70.294998  69.737503  70.004997  68.980354   \n",
       "3  2019-12-20  70.557503  70.662498  69.639999  69.860001  68.837479   \n",
       "4  2019-12-23  70.132500  71.062500  70.092499  71.000000  69.960808   \n",
       "5  2019-12-24  71.172501  71.222504  70.730003  71.067497  70.027313   \n",
       "\n",
       "      Volume  Volume-Previous-Day  \n",
       "1  116028400          114158400.0  \n",
       "2   98369200          116028400.0  \n",
       "3  275978000           98369200.0  \n",
       "4   98572000          275978000.0  \n",
       "5   48478800           98572000.0  "
      ]
     },
     "execution_count": 1,
     "metadata": {},
     "output_type": "execute_result"
    }
   ],
   "source": [
    "import numpy as np\n",
    "import matplotlib.pyplot as plt\n",
    "import pandas as pd\n",
    "\n",
    "dataset = pd.read_csv('_DATA/stock/AAPL_2019.12.17-2021.12.17.csv')\n",
    "# add column for close price on previous day\n",
    "dataset['Volume-Previous-Day'] = dataset['Volume'].shift(1)\n",
    "dataset = dataset.dropna()\n",
    "dataset.head()"
   ]
  },
  {
   "cell_type": "code",
   "execution_count": 2,
   "id": "c0a07ba3",
   "metadata": {},
   "outputs": [],
   "source": [
    "# data preprocessing\n",
    "X = dataset[['Open', 'Volume-Previous-Day']].values\n",
    "y = dataset['Close'].values"
   ]
  },
  {
   "cell_type": "code",
   "execution_count": 3,
   "id": "0632e811",
   "metadata": {},
   "outputs": [
    {
     "name": "stdout",
     "output_type": "stream",
     "text": [
      "Train size = 337\n",
      "Test size = 167\n"
     ]
    }
   ],
   "source": [
    "# split data to train and test sets\n",
    "from sklearn.model_selection import train_test_split\n",
    "X_train, X_test, y_train, y_test = train_test_split(X, y, test_size = 0.33, random_state = 0, shuffle = False)\n",
    "\n",
    "print(\"Train size =\", len(y_train))\n",
    "print(\"Test size =\", len(y_test))"
   ]
  },
  {
   "cell_type": "code",
   "execution_count": 4,
   "id": "6bb16d6b",
   "metadata": {},
   "outputs": [
    {
     "name": "stdout",
     "output_type": "stream",
     "text": [
      "Prediction completed. Time spent = 0.057 seconds\n"
     ]
    }
   ],
   "source": [
    "import time\n",
    "start_time_ms = time.time() * 1000\n",
    "\n",
    "# Fitting the model\n",
    "from sklearn.linear_model import LinearRegression\n",
    "regressor = LinearRegression()\n",
    "regressor.fit(X_train, y_train)\n",
    "\n",
    "# predicting the test set results\n",
    "y_pred = regressor.predict(X_test)\n",
    "\n",
    "end_time_ms = time.time() * 1000\n",
    "print(\"Prediction completed. Time spent = %.3f seconds\" % ((end_time_ms - start_time_ms) / 1000))"
   ]
  },
  {
   "cell_type": "code",
   "execution_count": 5,
   "id": "42f3fec7",
   "metadata": {},
   "outputs": [
    {
     "name": "stdout",
     "output_type": "stream",
     "text": [
      "Coefficients: \n",
      " [9.89736639e-01 4.63700883e-10]\n",
      "Intercepts: 1.0216917276775348\n",
      "Score of the model: 0.98\n",
      "R^2 score: 0.98\n",
      "RMSE (root mean square error): 1.95\n"
     ]
    }
   ],
   "source": [
    "# diplay stats \n",
    "from sklearn.metrics import mean_squared_error, r2_score\n",
    "from math import sqrt\n",
    "#print(\"y_test\", y_test)\n",
    "#print(\"y_pred\", y_pred)\n",
    "print('Coefficients: \\n', regressor.coef_)\n",
    "print('Intercepts:', regressor.intercept_)    # the intercept (often labeled the constant) \n",
    "                                                 # is the expected mean value of Y when all X=0\n",
    "print('Score of the model: %.2f' % regressor.score(X_test, y_test))\n",
    "print('R^2 score: %.2f' % r2_score(y_test, y_pred))\n",
    "print(\"RMSE (root mean square error): %.2f\" % sqrt(mean_squared_error(y_test, y_pred)))"
   ]
  },
  {
   "cell_type": "code",
   "execution_count": 6,
   "id": "948233b0",
   "metadata": {},
   "outputs": [
    {
     "data": {
      "image/png": "[encoded data removed]",
      "text/plain": [
       "<Figure size 432x288 with 1 Axes>"
      ]
     },
     "metadata": {
      "needs_background": "light"
     },
     "output_type": "display_data"
    }
   ],
   "source": [
    "import matplotlib.pyplot as plt\n",
    "plt.plot(y_test)\n",
    "plt.plot(y_pred)\n",
    "plt.legend(['Actual values', 'Prediction'])\n",
    "plt.title(\"AAPL/USD\")\n",
    "plt.show()"
   ]
  },
  {
   "cell_type": "code",
   "execution_count": null,
   "id": "61e62a70",
   "metadata": {},
   "outputs": [],
   "source": []
  }
 ],
 "metadata": {
  "kernelspec": {
   "display_name": "Python 3 (ipykernel)",
   "language": "python",
   "name": "python3"
  },
  "language_info": {
   "codemirror_mode": {
    "name": "ipython",
    "version": 3
   },
   "file_extension": ".py",
   "mimetype": "text/x-python",
   "name": "python",
   "nbconvert_exporter": "python",
   "pygments_lexer": "ipython3",
   "version": "3.7.9"
  }
 },
 "nbformat": 4,
 "nbformat_minor": 5
}
