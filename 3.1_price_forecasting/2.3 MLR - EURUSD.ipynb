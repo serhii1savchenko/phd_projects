{
 "cells": [
  {
   "cell_type": "code",
   "execution_count": 1,
   "id": "c1ee7626",
   "metadata": {},
   "outputs": [
    {
     "data": {
      "text/html": [
       "<div>\n",
       "<style scoped>\n",
       "    .dataframe tbody tr th:only-of-type {\n",
       "        vertical-align: middle;\n",
       "    }\n",
       "\n",
       "    .dataframe tbody tr th {\n",
       "        vertical-align: top;\n",
       "    }\n",
       "\n",
       "    .dataframe thead th {\n",
       "        text-align: right;\n",
       "    }\n",
       "</style>\n",
       "<table border=\"1\" class=\"dataframe\">\n",
       "  <thead>\n",
       "    <tr style=\"text-align: right;\">\n",
       "      <th></th>\n",
       "      <th>Date</th>\n",
       "      <th>Open</th>\n",
       "      <th>High</th>\n",
       "      <th>Low</th>\n",
       "      <th>Close</th>\n",
       "      <th>Adj Close</th>\n",
       "      <th>Volume</th>\n",
       "      <th>Close-Previous-Day</th>\n",
       "    </tr>\n",
       "  </thead>\n",
       "  <tbody>\n",
       "    <tr>\n",
       "      <th>1</th>\n",
       "      <td>2019-12-18</td>\n",
       "      <td>1.115150</td>\n",
       "      <td>1.115150</td>\n",
       "      <td>1.111136</td>\n",
       "      <td>1.115138</td>\n",
       "      <td>1.115138</td>\n",
       "      <td>0</td>\n",
       "      <td>1.113697</td>\n",
       "    </tr>\n",
       "    <tr>\n",
       "      <th>2</th>\n",
       "      <td>2019-12-19</td>\n",
       "      <td>1.111593</td>\n",
       "      <td>1.114243</td>\n",
       "      <td>1.110988</td>\n",
       "      <td>1.111593</td>\n",
       "      <td>1.111593</td>\n",
       "      <td>0</td>\n",
       "      <td>1.115138</td>\n",
       "    </tr>\n",
       "    <tr>\n",
       "      <th>3</th>\n",
       "      <td>2019-12-20</td>\n",
       "      <td>1.112372</td>\n",
       "      <td>1.112595</td>\n",
       "      <td>1.107432</td>\n",
       "      <td>1.112595</td>\n",
       "      <td>1.112595</td>\n",
       "      <td>0</td>\n",
       "      <td>1.111593</td>\n",
       "    </tr>\n",
       "    <tr>\n",
       "      <th>4</th>\n",
       "      <td>2019-12-23</td>\n",
       "      <td>1.107984</td>\n",
       "      <td>1.109755</td>\n",
       "      <td>1.107150</td>\n",
       "      <td>1.107984</td>\n",
       "      <td>1.107984</td>\n",
       "      <td>0</td>\n",
       "      <td>1.112595</td>\n",
       "    </tr>\n",
       "    <tr>\n",
       "      <th>5</th>\n",
       "      <td>2019-12-24</td>\n",
       "      <td>1.109299</td>\n",
       "      <td>1.109755</td>\n",
       "      <td>1.107064</td>\n",
       "      <td>1.109385</td>\n",
       "      <td>1.109385</td>\n",
       "      <td>0</td>\n",
       "      <td>1.107984</td>\n",
       "    </tr>\n",
       "  </tbody>\n",
       "</table>\n",
       "</div>"
      ],
      "text/plain": [
       "         Date      Open      High       Low     Close  Adj Close  Volume  \\\n",
       "1  2019-12-18  1.115150  1.115150  1.111136  1.115138   1.115138       0   \n",
       "2  2019-12-19  1.111593  1.114243  1.110988  1.111593   1.111593       0   \n",
       "3  2019-12-20  1.112372  1.112595  1.107432  1.112595   1.112595       0   \n",
       "4  2019-12-23  1.107984  1.109755  1.107150  1.107984   1.107984       0   \n",
       "5  2019-12-24  1.109299  1.109755  1.107064  1.109385   1.109385       0   \n",
       "\n",
       "   Close-Previous-Day  \n",
       "1            1.113697  \n",
       "2            1.115138  \n",
       "3            1.111593  \n",
       "4            1.112595  \n",
       "5            1.107984  "
      ]
     },
     "execution_count": 1,
     "metadata": {},
     "output_type": "execute_result"
    }
   ],
   "source": [
    "import numpy as np\n",
    "import matplotlib.pyplot as plt\n",
    "import pandas as pd\n",
    "\n",
    "dataset = pd.read_csv('_DATA/currency/EURUSD_2019.12.17-2021.12.17.csv')\n",
    "# add column for close price on previous day\n",
    "dataset['Close-Previous-Day'] = dataset['Close'].shift(1)\n",
    "dataset = dataset.dropna()\n",
    "dataset.head()"
   ]
  },
  {
   "cell_type": "code",
   "execution_count": 2,
   "id": "c0a07ba3",
   "metadata": {},
   "outputs": [],
   "source": [
    "# data preprocessing\n",
    "X = dataset[['Open', 'Close-Previous-Day']].values\n",
    "y = dataset['Close'].values"
   ]
  },
  {
   "cell_type": "code",
   "execution_count": 3,
   "id": "0632e811",
   "metadata": {},
   "outputs": [
    {
     "name": "stdout",
     "output_type": "stream",
     "text": [
      "Train size = 350\n",
      "Test size = 173\n"
     ]
    }
   ],
   "source": [
    "# split data to train and test sets\n",
    "from sklearn.model_selection import train_test_split\n",
    "X_train, X_test, y_train, y_test = train_test_split(X, y, test_size = 0.33, random_state = 0, shuffle = False)\n",
    "\n",
    "print(\"Train size =\", len(y_train))\n",
    "print(\"Test size =\", len(y_test))"
   ]
  },
  {
   "cell_type": "code",
   "execution_count": 4,
   "id": "6bb16d6b",
   "metadata": {},
   "outputs": [
    {
     "name": "stdout",
     "output_type": "stream",
     "text": [
      "Prediction completed. Time spent = 0.119 seconds\n"
     ]
    }
   ],
   "source": [
    "import time\n",
    "start_time_ms = time.time() * 1000\n",
    "\n",
    "# Fitting the model\n",
    "from sklearn.linear_model import LinearRegression\n",
    "regressor = LinearRegression()\n",
    "regressor.fit(X_train, y_train)\n",
    "\n",
    "# predicting the test set results\n",
    "y_pred = regressor.predict(X_test)\n",
    "\n",
    "end_time_ms = time.time() * 1000\n",
    "print(\"Prediction completed. Time spent = %.3f seconds\" % ((end_time_ms - start_time_ms) / 1000))"
   ]
  },
  {
   "cell_type": "code",
   "execution_count": 5,
   "id": "42f3fec7",
   "metadata": {},
   "outputs": [
    {
     "name": "stdout",
     "output_type": "stream",
     "text": [
      "Coefficients: \n",
      " [9.99433776e-01 4.18681138e-04]\n",
      "Intercepts: 0.00023612658512650597\n",
      "Score of the model: 0.999913\n",
      "R^2 score: 0.999913\n",
      "RMSE (root mean square error): 0.000254\n"
     ]
    }
   ],
   "source": [
    "# diplay stats \n",
    "from sklearn.metrics import mean_squared_error, r2_score\n",
    "from math import sqrt\n",
    "#print(\"y_test\", y_test)\n",
    "#print(\"y_pred\", y_pred)\n",
    "print('Coefficients: \\n', regressor.coef_)\n",
    "print('Intercepts:', regressor.intercept_)    # the intercept (often labeled the constant) \n",
    "                                                 # is the expected mean value of Y when all X=0\n",
    "print('Score of the model: %.6f' % regressor.score(X_test, y_test))\n",
    "print('R^2 score: %.6f' % r2_score(y_test, y_pred))\n",
    "print(\"RMSE (root mean square error): %.6f\" % sqrt(mean_squared_error(y_test, y_pred)))"
   ]
  },
  {
   "cell_type": "code",
   "execution_count": 6,
   "id": "948233b0",
   "metadata": {},
   "outputs": [
    {
     "data": {
      "image/png": "[encoded data removed]",
      "text/plain": [
       "<Figure size 640x480 with 1 Axes>"
      ]
     },
     "metadata": {},
     "output_type": "display_data"
    }
   ],
   "source": [
    "import matplotlib.pyplot as plt\n",
    "plt.plot(y_test)\n",
    "plt.plot(y_pred)\n",
    "plt.legend(['Actual values', 'Prediction'])\n",
    "plt.title(\"EUR/USD\")\n",
    "plt.show()"
   ]
  },
  {
   "cell_type": "code",
   "execution_count": null,
   "id": "61e62a70",
   "metadata": {},
   "outputs": [],
   "source": []
  }
 ],
 "metadata": {
  "kernelspec": {
   "display_name": "Python 3 (ipykernel)",
   "language": "python",
   "name": "python3"
  },
  "language_info": {
   "codemirror_mode": {
    "name": "ipython",
    "version": 3
   },
   "file_extension": ".py",
   "mimetype": "text/x-python",
   "name": "python",
   "nbconvert_exporter": "python",
   "pygments_lexer": "ipython3",
   "version": "3.12.5"
  }
 },
 "nbformat": 4,
 "nbformat_minor": 5
}
