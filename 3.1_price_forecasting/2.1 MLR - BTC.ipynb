{
 "cells": [
  {
   "cell_type": "code",
   "execution_count": 1,
   "id": "c1ee7626",
   "metadata": {},
   "outputs": [
    {
     "data": {
      "text/html": [
       "<div>\n",
       "<style scoped>\n",
       "    .dataframe tbody tr th:only-of-type {\n",
       "        vertical-align: middle;\n",
       "    }\n",
       "\n",
       "    .dataframe tbody tr th {\n",
       "        vertical-align: top;\n",
       "    }\n",
       "\n",
       "    .dataframe thead th {\n",
       "        text-align: right;\n",
       "    }\n",
       "</style>\n",
       "<table border=\"1\" class=\"dataframe\">\n",
       "  <thead>\n",
       "    <tr style=\"text-align: right;\">\n",
       "      <th></th>\n",
       "      <th>Date</th>\n",
       "      <th>Open</th>\n",
       "      <th>High</th>\n",
       "      <th>Low</th>\n",
       "      <th>Close</th>\n",
       "      <th>Adj Close</th>\n",
       "      <th>Volume</th>\n",
       "      <th>Volume-Previous-Day</th>\n",
       "    </tr>\n",
       "  </thead>\n",
       "  <tbody>\n",
       "    <tr>\n",
       "      <th>1</th>\n",
       "      <td>2019-12-18</td>\n",
       "      <td>6647.698242</td>\n",
       "      <td>7324.984863</td>\n",
       "      <td>6540.049316</td>\n",
       "      <td>7276.802734</td>\n",
       "      <td>7276.802734</td>\n",
       "      <td>3.183652e+10</td>\n",
       "      <td>2.236380e+10</td>\n",
       "    </tr>\n",
       "    <tr>\n",
       "      <th>2</th>\n",
       "      <td>2019-12-19</td>\n",
       "      <td>7277.590820</td>\n",
       "      <td>7346.602539</td>\n",
       "      <td>7041.381836</td>\n",
       "      <td>7202.844238</td>\n",
       "      <td>7202.844238</td>\n",
       "      <td>2.590460e+10</td>\n",
       "      <td>3.183652e+10</td>\n",
       "    </tr>\n",
       "    <tr>\n",
       "      <th>3</th>\n",
       "      <td>2019-12-20</td>\n",
       "      <td>7208.636719</td>\n",
       "      <td>7257.921875</td>\n",
       "      <td>7086.124023</td>\n",
       "      <td>7218.816406</td>\n",
       "      <td>7218.816406</td>\n",
       "      <td>2.263382e+10</td>\n",
       "      <td>2.590460e+10</td>\n",
       "    </tr>\n",
       "    <tr>\n",
       "      <th>4</th>\n",
       "      <td>2019-12-21</td>\n",
       "      <td>7220.593750</td>\n",
       "      <td>7223.226074</td>\n",
       "      <td>7112.735840</td>\n",
       "      <td>7191.158691</td>\n",
       "      <td>7191.158691</td>\n",
       "      <td>1.931255e+10</td>\n",
       "      <td>2.263382e+10</td>\n",
       "    </tr>\n",
       "    <tr>\n",
       "      <th>5</th>\n",
       "      <td>2019-12-22</td>\n",
       "      <td>7191.188477</td>\n",
       "      <td>7518.033203</td>\n",
       "      <td>7167.179199</td>\n",
       "      <td>7511.588867</td>\n",
       "      <td>7511.588867</td>\n",
       "      <td>2.313454e+10</td>\n",
       "      <td>1.931255e+10</td>\n",
       "    </tr>\n",
       "  </tbody>\n",
       "</table>\n",
       "</div>"
      ],
      "text/plain": [
       "         Date         Open         High          Low        Close  \\\n",
       "1  2019-12-18  6647.698242  7324.984863  6540.049316  7276.802734   \n",
       "2  2019-12-19  7277.590820  7346.602539  7041.381836  7202.844238   \n",
       "3  2019-12-20  7208.636719  7257.921875  7086.124023  7218.816406   \n",
       "4  2019-12-21  7220.593750  7223.226074  7112.735840  7191.158691   \n",
       "5  2019-12-22  7191.188477  7518.033203  7167.179199  7511.588867   \n",
       "\n",
       "     Adj Close        Volume  Volume-Previous-Day  \n",
       "1  7276.802734  3.183652e+10         2.236380e+10  \n",
       "2  7202.844238  2.590460e+10         3.183652e+10  \n",
       "3  7218.816406  2.263382e+10         2.590460e+10  \n",
       "4  7191.158691  1.931255e+10         2.263382e+10  \n",
       "5  7511.588867  2.313454e+10         1.931255e+10  "
      ]
     },
     "execution_count": 1,
     "metadata": {},
     "output_type": "execute_result"
    }
   ],
   "source": [
    "import numpy as np\n",
    "import matplotlib.pyplot as plt\n",
    "import pandas as pd\n",
    "\n",
    "dataset = pd.read_csv('_DATA/crypto/BTC-USD_2019.12.17-2021.12.17.csv')\n",
    "# add column for close price on previous day\n",
    "dataset['Volume-Previous-Day'] = dataset['Volume'].shift(1)\n",
    "dataset = dataset.dropna()\n",
    "dataset.head()"
   ]
  },
  {
   "cell_type": "code",
   "execution_count": 2,
   "id": "c0a07ba3",
   "metadata": {},
   "outputs": [],
   "source": [
    "# data preprocessing\n",
    "X = dataset[['Open', 'Volume-Previous-Day']].values\n",
    "y = dataset['Close'].values"
   ]
  },
  {
   "cell_type": "code",
   "execution_count": 3,
   "id": "0632e811",
   "metadata": {},
   "outputs": [
    {
     "name": "stdout",
     "output_type": "stream",
     "text": [
      "Train size = 485\n",
      "Test size = 239\n"
     ]
    }
   ],
   "source": [
    "# split data to train and test sets\n",
    "from sklearn.model_selection import train_test_split\n",
    "X_train, X_test, y_train, y_test = train_test_split(X, y, test_size = 0.33, random_state = 0, shuffle = False)\n",
    "\n",
    "print(\"Train size =\", len(y_train))\n",
    "print(\"Test size =\", len(y_test))"
   ]
  },
  {
   "cell_type": "code",
   "execution_count": 4,
   "id": "6bb16d6b",
   "metadata": {},
   "outputs": [
    {
     "name": "stdout",
     "output_type": "stream",
     "text": [
      "Prediction completed. Time spent = 1.491 seconds\n"
     ]
    }
   ],
   "source": [
    "import time\n",
    "start_time_ms = time.time() * 1000\n",
    "\n",
    "# Fitting the model\n",
    "from sklearn.linear_model import LinearRegression\n",
    "regressor = LinearRegression()\n",
    "regressor.fit(X_train, y_train)\n",
    "\n",
    "# predicting the test set results\n",
    "y_pred = regressor.predict(X_test)\n",
    "\n",
    "end_time_ms = time.time() * 1000\n",
    "print(\"Prediction completed. Time spent = %.3f seconds\" % ((end_time_ms - start_time_ms) / 1000))"
   ]
  },
  {
   "cell_type": "code",
   "execution_count": 5,
   "id": "42f3fec7",
   "metadata": {},
   "outputs": [
    {
     "name": "stdout",
     "output_type": "stream",
     "text": [
      "Coefficients: \n",
      " [ 1.00212133e+00 -1.04434368e-09]\n",
      "Intercepts: 87.63371261618886\n",
      "Score of the model: 0.96\n",
      "R^2 score: 0.96\n",
      "RMSE (root mean square error): 1910.60\n"
     ]
    }
   ],
   "source": [
    "# diplay stats \n",
    "from sklearn.metrics import mean_squared_error, r2_score\n",
    "from math import sqrt\n",
    "#print(\"y_test\", y_test)\n",
    "#print(\"y_pred\", y_pred)\n",
    "print('Coefficients: \\n', regressor.coef_)\n",
    "print('Intercepts:', regressor.intercept_)    # the intercept (often labeled the constant) \n",
    "                                                 # is the expected mean value of Y when all X=0\n",
    "print('Score of the model: %.2f' % regressor.score(X_test, y_test))\n",
    "print('R^2 score: %.2f' % r2_score(y_test, y_pred))\n",
    "print(\"RMSE (root mean square error): %.2f\" % sqrt(mean_squared_error(y_test, y_pred)))"
   ]
  },
  {
   "cell_type": "code",
   "execution_count": 6,
   "id": "948233b0",
   "metadata": {},
   "outputs": [
    {
     "data": {
      "image/png": "[encoded data removed]",
      "text/plain": [
       "<Figure size 432x288 with 1 Axes>"
      ]
     },
     "metadata": {
      "needs_background": "light"
     },
     "output_type": "display_data"
    }
   ],
   "source": [
    "import matplotlib.pyplot as plt\n",
    "plt.plot(y_test)\n",
    "plt.plot(y_pred)\n",
    "plt.legend(['Actual values', 'Prediction'])\n",
    "plt.title(\"BTC/USD\")\n",
    "plt.show()"
   ]
  },
  {
   "cell_type": "code",
   "execution_count": null,
   "id": "61e62a70",
   "metadata": {},
   "outputs": [],
   "source": []
  }
 ],
 "metadata": {
  "kernelspec": {
   "display_name": "Python 3 (ipykernel)",
   "language": "python",
   "name": "python3"
  },
  "language_info": {
   "codemirror_mode": {
    "name": "ipython",
    "version": 3
   },
   "file_extension": ".py",
   "mimetype": "text/x-python",
   "name": "python",
   "nbconvert_exporter": "python",
   "pygments_lexer": "ipython3",
   "version": "3.7.9"
  }
 },
 "nbformat": 4,
 "nbformat_minor": 5
}
