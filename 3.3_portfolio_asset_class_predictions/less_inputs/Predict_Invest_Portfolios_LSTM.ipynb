{
 "cells": [
  {
   "cell_type": "code",
   "execution_count": 1,
   "id": "9226d3be",
   "metadata": {},
   "outputs": [
    {
     "data": {
      "text/html": [
       "<div>\n",
       "<style scoped>\n",
       "    .dataframe tbody tr th:only-of-type {\n",
       "        vertical-align: middle;\n",
       "    }\n",
       "\n",
       "    .dataframe tbody tr th {\n",
       "        vertical-align: top;\n",
       "    }\n",
       "\n",
       "    .dataframe thead th {\n",
       "        text-align: right;\n",
       "    }\n",
       "</style>\n",
       "<table border=\"1\" class=\"dataframe\">\n",
       "  <thead>\n",
       "    <tr style=\"text-align: right;\">\n",
       "      <th></th>\n",
       "      <th>client_id</th>\n",
       "      <th>sex</th>\n",
       "      <th>age</th>\n",
       "      <th>state</th>\n",
       "      <th>risk_profile</th>\n",
       "      <th>invest_goals</th>\n",
       "      <th>temp_goals</th>\n",
       "      <th>fin_exp</th>\n",
       "      <th>fin_avail</th>\n",
       "      <th>a1</th>\n",
       "      <th>...</th>\n",
       "      <th>a11</th>\n",
       "      <th>a12</th>\n",
       "      <th>a13</th>\n",
       "      <th>a14</th>\n",
       "      <th>a15</th>\n",
       "      <th>a16</th>\n",
       "      <th>a17</th>\n",
       "      <th>a18</th>\n",
       "      <th>a19</th>\n",
       "      <th>a20</th>\n",
       "    </tr>\n",
       "  </thead>\n",
       "  <tbody>\n",
       "    <tr>\n",
       "      <th>1166</th>\n",
       "      <td>5146755</td>\n",
       "      <td>1</td>\n",
       "      <td>69</td>\n",
       "      <td>25</td>\n",
       "      <td>4</td>\n",
       "      <td>14</td>\n",
       "      <td>17</td>\n",
       "      <td>10</td>\n",
       "      <td>19</td>\n",
       "      <td>0.167</td>\n",
       "      <td>...</td>\n",
       "      <td>0.0</td>\n",
       "      <td>0.095</td>\n",
       "      <td>0.0</td>\n",
       "      <td>0.020</td>\n",
       "      <td>0.0</td>\n",
       "      <td>0.0</td>\n",
       "      <td>0.181</td>\n",
       "      <td>0.000</td>\n",
       "      <td>0.000</td>\n",
       "      <td>0.0</td>\n",
       "    </tr>\n",
       "    <tr>\n",
       "      <th>1167</th>\n",
       "      <td>5738347</td>\n",
       "      <td>1</td>\n",
       "      <td>56</td>\n",
       "      <td>11</td>\n",
       "      <td>3</td>\n",
       "      <td>13</td>\n",
       "      <td>17</td>\n",
       "      <td>11</td>\n",
       "      <td>19</td>\n",
       "      <td>0.034</td>\n",
       "      <td>...</td>\n",
       "      <td>0.0</td>\n",
       "      <td>0.065</td>\n",
       "      <td>0.0</td>\n",
       "      <td>0.068</td>\n",
       "      <td>0.0</td>\n",
       "      <td>0.0</td>\n",
       "      <td>0.000</td>\n",
       "      <td>0.065</td>\n",
       "      <td>0.049</td>\n",
       "      <td>0.0</td>\n",
       "    </tr>\n",
       "    <tr>\n",
       "      <th>1168</th>\n",
       "      <td>8516725</td>\n",
       "      <td>1</td>\n",
       "      <td>64</td>\n",
       "      <td>24</td>\n",
       "      <td>4</td>\n",
       "      <td>13</td>\n",
       "      <td>17</td>\n",
       "      <td>11</td>\n",
       "      <td>19</td>\n",
       "      <td>0.178</td>\n",
       "      <td>...</td>\n",
       "      <td>0.0</td>\n",
       "      <td>0.000</td>\n",
       "      <td>0.0</td>\n",
       "      <td>0.055</td>\n",
       "      <td>0.0</td>\n",
       "      <td>0.0</td>\n",
       "      <td>0.023</td>\n",
       "      <td>0.000</td>\n",
       "      <td>0.000</td>\n",
       "      <td>0.0</td>\n",
       "    </tr>\n",
       "    <tr>\n",
       "      <th>1169</th>\n",
       "      <td>14240215</td>\n",
       "      <td>1</td>\n",
       "      <td>57</td>\n",
       "      <td>11</td>\n",
       "      <td>3</td>\n",
       "      <td>13</td>\n",
       "      <td>17</td>\n",
       "      <td>10</td>\n",
       "      <td>19</td>\n",
       "      <td>0.009</td>\n",
       "      <td>...</td>\n",
       "      <td>0.0</td>\n",
       "      <td>0.000</td>\n",
       "      <td>0.0</td>\n",
       "      <td>0.000</td>\n",
       "      <td>0.0</td>\n",
       "      <td>0.0</td>\n",
       "      <td>0.000</td>\n",
       "      <td>0.000</td>\n",
       "      <td>0.000</td>\n",
       "      <td>0.0</td>\n",
       "    </tr>\n",
       "    <tr>\n",
       "      <th>1170</th>\n",
       "      <td>14326270</td>\n",
       "      <td>0</td>\n",
       "      <td>51</td>\n",
       "      <td>14</td>\n",
       "      <td>3</td>\n",
       "      <td>13</td>\n",
       "      <td>17</td>\n",
       "      <td>11</td>\n",
       "      <td>19</td>\n",
       "      <td>0.184</td>\n",
       "      <td>...</td>\n",
       "      <td>0.0</td>\n",
       "      <td>0.000</td>\n",
       "      <td>0.0</td>\n",
       "      <td>0.006</td>\n",
       "      <td>0.0</td>\n",
       "      <td>0.0</td>\n",
       "      <td>0.018</td>\n",
       "      <td>0.000</td>\n",
       "      <td>0.000</td>\n",
       "      <td>0.0</td>\n",
       "    </tr>\n",
       "  </tbody>\n",
       "</table>\n",
       "<p>5 rows × 29 columns</p>\n",
       "</div>"
      ],
      "text/plain": [
       "      client_id  sex  age  state  risk_profile  invest_goals  temp_goals  \\\n",
       "1166    5146755    1   69     25             4            14          17   \n",
       "1167    5738347    1   56     11             3            13          17   \n",
       "1168    8516725    1   64     24             4            13          17   \n",
       "1169   14240215    1   57     11             3            13          17   \n",
       "1170   14326270    0   51     14             3            13          17   \n",
       "\n",
       "      fin_exp  fin_avail     a1  ...  a11    a12  a13    a14  a15  a16    a17  \\\n",
       "1166       10         19  0.167  ...  0.0  0.095  0.0  0.020  0.0  0.0  0.181   \n",
       "1167       11         19  0.034  ...  0.0  0.065  0.0  0.068  0.0  0.0  0.000   \n",
       "1168       11         19  0.178  ...  0.0  0.000  0.0  0.055  0.0  0.0  0.023   \n",
       "1169       10         19  0.009  ...  0.0  0.000  0.0  0.000  0.0  0.0  0.000   \n",
       "1170       11         19  0.184  ...  0.0  0.000  0.0  0.006  0.0  0.0  0.018   \n",
       "\n",
       "        a18    a19  a20  \n",
       "1166  0.000  0.000  0.0  \n",
       "1167  0.065  0.049  0.0  \n",
       "1168  0.000  0.000  0.0  \n",
       "1169  0.000  0.000  0.0  \n",
       "1170  0.000  0.000  0.0  \n",
       "\n",
       "[5 rows x 29 columns]"
      ]
     },
     "execution_count": 1,
     "metadata": {},
     "output_type": "execute_result"
    }
   ],
   "source": [
    "import pandas as pd\n",
    "import numpy as np\n",
    "import matplotlib.pyplot as plt\n",
    "import tensorflow as tf\n",
    "from tensorflow import keras\n",
    "from tensorflow.keras.models import Sequential\n",
    "from tensorflow.keras.layers import LSTM, Dense\n",
    "from tensorflow.keras.metrics import RootMeanSquaredError\n",
    "from sklearn.metrics import mean_squared_error\n",
    "import math\n",
    "from sklearn.preprocessing import LabelEncoder\n",
    "from sklearn.preprocessing import MinMaxScaler\n",
    "\n",
    "# Load data from a CSV file\n",
    "df = pd.read_csv('dataset.csv')\n",
    "\n",
    "# Apply label encoding to the 'state' column\n",
    "label_encoder = LabelEncoder()\n",
    "df['state'] = label_encoder.fit_transform(df['state'])\n",
    "\n",
    "df.tail()"
   ]
  },
  {
   "cell_type": "code",
   "execution_count": 2,
   "id": "56886d61",
   "metadata": {},
   "outputs": [],
   "source": [
    "# 'data' contains columns 'sex', 'age', 'state', 'risk_profile'\n",
    "data = df[['sex', 'age', 'state', 'risk_profile']].values\n",
    "\n",
    "# normalize the dataset\n",
    "scaler = MinMaxScaler(feature_range=(0, 1))\n",
    "data = scaler.fit_transform(data)\n",
    "\n",
    "# 'targets' contains columns 'a1' through 'a20'\n",
    "targets = df[['a1', 'a2', 'a3', 'a4', 'a5', 'a6', 'a7', 'a8', 'a9', 'a10', 'a11', 'a12', 'a13', 'a14', 'a15', 'a16', 'a17', 'a18', 'a19', 'a20']].values\n",
    "\n",
    "# Split the data into training and testing sets\n",
    "split_ratio = 0.7  # 70% for training, 30% for testing\n",
    "split_index = int(len(data) * split_ratio)\n",
    "\n",
    "x_train, x_test = data[:split_index], data[split_index:]\n",
    "y_train, y_test = targets[:split_index], targets[split_index:]"
   ]
  },
  {
   "cell_type": "code",
   "execution_count": 3,
   "id": "45bba13b",
   "metadata": {},
   "outputs": [
    {
     "name": "stdout",
     "output_type": "stream",
     "text": [
      "x_train shape = (819, 1, 4)\n",
      "y_train shape = (819, 20)\n",
      "x_test shape = (352, 1, 4)\n",
      "y_test shape = (352, 20)\n"
     ]
    }
   ],
   "source": [
    "# Reshape the input data to match the expected input shape of the model\n",
    "x_train = x_train.reshape(x_train.shape[0], 1, x_train.shape[1])\n",
    "x_test = x_test.reshape(x_test.shape[0], 1, x_test.shape[1])\n",
    "\n",
    "print('x_train shape =', x_train.shape)\n",
    "print('y_train shape =', y_train.shape)\n",
    "print('x_test shape =', x_test.shape)\n",
    "print('y_test shape =', y_test.shape)"
   ]
  },
  {
   "cell_type": "code",
   "execution_count": 4,
   "id": "4008c272",
   "metadata": {},
   "outputs": [
    {
     "name": "stdout",
     "output_type": "stream",
     "text": [
      "Epoch 1/25\n",
      "103/103 [==============================] - 6s 10ms/step - loss: 0.0068 - root_mean_squared_error: 0.0823 - val_loss: 0.0059 - val_root_mean_squared_error: 0.0767\n",
      "Epoch 2/25\n",
      "103/103 [==============================] - 0s 4ms/step - loss: 0.0055 - root_mean_squared_error: 0.0743 - val_loss: 0.0058 - val_root_mean_squared_error: 0.0762\n",
      "Epoch 3/25\n",
      "103/103 [==============================] - 0s 4ms/step - loss: 0.0054 - root_mean_squared_error: 0.0738 - val_loss: 0.0058 - val_root_mean_squared_error: 0.0759\n",
      "Epoch 4/25\n",
      "103/103 [==============================] - 1s 6ms/step - loss: 0.0054 - root_mean_squared_error: 0.0736 - val_loss: 0.0058 - val_root_mean_squared_error: 0.0759\n",
      "Epoch 5/25\n",
      "103/103 [==============================] - 0s 4ms/step - loss: 0.0054 - root_mean_squared_error: 0.0735 - val_loss: 0.0057 - val_root_mean_squared_error: 0.0756\n",
      "Epoch 6/25\n",
      "103/103 [==============================] - 1s 6ms/step - loss: 0.0054 - root_mean_squared_error: 0.0734 - val_loss: 0.0057 - val_root_mean_squared_error: 0.0758\n",
      "Epoch 7/25\n",
      "103/103 [==============================] - 0s 4ms/step - loss: 0.0054 - root_mean_squared_error: 0.0733 - val_loss: 0.0057 - val_root_mean_squared_error: 0.0757\n",
      "Epoch 8/25\n",
      "103/103 [==============================] - 0s 4ms/step - loss: 0.0054 - root_mean_squared_error: 0.0733 - val_loss: 0.0057 - val_root_mean_squared_error: 0.0756\n",
      "Epoch 9/25\n",
      "103/103 [==============================] - 0s 4ms/step - loss: 0.0053 - root_mean_squared_error: 0.0731 - val_loss: 0.0057 - val_root_mean_squared_error: 0.0758\n",
      "Epoch 10/25\n",
      "103/103 [==============================] - 0s 4ms/step - loss: 0.0054 - root_mean_squared_error: 0.0733 - val_loss: 0.0057 - val_root_mean_squared_error: 0.0756\n",
      "Epoch 11/25\n",
      "103/103 [==============================] - 0s 4ms/step - loss: 0.0054 - root_mean_squared_error: 0.0732 - val_loss: 0.0057 - val_root_mean_squared_error: 0.0754\n",
      "Epoch 12/25\n",
      "103/103 [==============================] - 0s 4ms/step - loss: 0.0054 - root_mean_squared_error: 0.0733 - val_loss: 0.0057 - val_root_mean_squared_error: 0.0755\n",
      "Epoch 13/25\n",
      "103/103 [==============================] - 0s 4ms/step - loss: 0.0054 - root_mean_squared_error: 0.0732 - val_loss: 0.0057 - val_root_mean_squared_error: 0.0756\n",
      "Epoch 14/25\n",
      "103/103 [==============================] - 0s 4ms/step - loss: 0.0054 - root_mean_squared_error: 0.0731 - val_loss: 0.0057 - val_root_mean_squared_error: 0.0754\n",
      "Epoch 15/25\n",
      "103/103 [==============================] - 0s 4ms/step - loss: 0.0054 - root_mean_squared_error: 0.0731 - val_loss: 0.0057 - val_root_mean_squared_error: 0.0754\n",
      "Epoch 16/25\n",
      "103/103 [==============================] - 0s 4ms/step - loss: 0.0054 - root_mean_squared_error: 0.0733 - val_loss: 0.0057 - val_root_mean_squared_error: 0.0755\n",
      "Epoch 17/25\n",
      "103/103 [==============================] - 0s 4ms/step - loss: 0.0054 - root_mean_squared_error: 0.0731 - val_loss: 0.0057 - val_root_mean_squared_error: 0.0757\n",
      "Epoch 18/25\n",
      "103/103 [==============================] - 0s 4ms/step - loss: 0.0053 - root_mean_squared_error: 0.0731 - val_loss: 0.0057 - val_root_mean_squared_error: 0.0755\n",
      "Epoch 19/25\n",
      "103/103 [==============================] - 1s 5ms/step - loss: 0.0054 - root_mean_squared_error: 0.0732 - val_loss: 0.0057 - val_root_mean_squared_error: 0.0755\n",
      "Epoch 20/25\n",
      "103/103 [==============================] - 0s 4ms/step - loss: 0.0054 - root_mean_squared_error: 0.0732 - val_loss: 0.0057 - val_root_mean_squared_error: 0.0755\n",
      "Epoch 21/25\n",
      "103/103 [==============================] - 0s 4ms/step - loss: 0.0053 - root_mean_squared_error: 0.0731 - val_loss: 0.0057 - val_root_mean_squared_error: 0.0756\n",
      "Epoch 22/25\n",
      "103/103 [==============================] - 0s 4ms/step - loss: 0.0053 - root_mean_squared_error: 0.0730 - val_loss: 0.0057 - val_root_mean_squared_error: 0.0756\n",
      "Epoch 23/25\n",
      "103/103 [==============================] - 0s 4ms/step - loss: 0.0054 - root_mean_squared_error: 0.0731 - val_loss: 0.0057 - val_root_mean_squared_error: 0.0756\n",
      "Epoch 24/25\n",
      "103/103 [==============================] - 0s 4ms/step - loss: 0.0053 - root_mean_squared_error: 0.0731 - val_loss: 0.0057 - val_root_mean_squared_error: 0.0754\n",
      "Epoch 25/25\n",
      "103/103 [==============================] - 0s 4ms/step - loss: 0.0053 - root_mean_squared_error: 0.0731 - val_loss: 0.0057 - val_root_mean_squared_error: 0.0755\n"
     ]
    }
   ],
   "source": [
    "model = Sequential()\n",
    "\n",
    "# Add an LSTM layer with suitable input shape\n",
    "model.add(LSTM(units=64, input_shape=(x_train.shape[1], x_train.shape[2]), return_sequences=True))\n",
    "\n",
    "# Add a Dense (fully connected) layer to output the 20-element prediction\n",
    "model.add(Dense(units=20))\n",
    "\n",
    "# Compile the model\n",
    "model.compile(loss='mean_squared_error', optimizer='adam', metrics=[RootMeanSquaredError()])\n",
    "\n",
    "# Train the model\n",
    "history = model.fit(x_train, y_train, epochs=25, batch_size=8, validation_data=(x_test, y_test))"
   ]
  },
  {
   "cell_type": "code",
   "execution_count": 5,
   "id": "3b751616",
   "metadata": {},
   "outputs": [
    {
     "name": "stdout",
     "output_type": "stream",
     "text": [
      "dict_keys(['loss', 'root_mean_squared_error', 'val_loss', 'val_root_mean_squared_error'])\n"
     ]
    },
    {
     "data": {
      "image/png": "[encoded data removed]",
      "text/plain": [
       "<Figure size 640x480 with 1 Axes>"
      ]
     },
     "metadata": {},
     "output_type": "display_data"
    }
   ],
   "source": [
    "# List all data in history\n",
    "print(history.history.keys())\n",
    "\n",
    "# Summarize history for RMSE\n",
    "plt.plot(history.history['root_mean_squared_error'])\n",
    "plt.plot(history.history['val_root_mean_squared_error'])\n",
    "plt.title('Model RMSE')\n",
    "plt.ylabel('RMSE')\n",
    "plt.xlabel('Epoch')\n",
    "plt.legend(['train', 'test'], loc='upper right')\n",
    "plt.show()"
   ]
  },
  {
   "cell_type": "code",
   "execution_count": 6,
   "id": "9321d377",
   "metadata": {},
   "outputs": [
    {
     "name": "stdout",
     "output_type": "stream",
     "text": [
      "11/11 [==============================] - 1s 2ms/step\n"
     ]
    }
   ],
   "source": [
    "# Generate predictions on the test set\n",
    "y_pred = model.predict(x_test)"
   ]
  },
  {
   "cell_type": "code",
   "execution_count": 7,
   "id": "f66a25f2",
   "metadata": {},
   "outputs": [
    {
     "name": "stdout",
     "output_type": "stream",
     "text": [
      "y_test shape = (352, 20)\n",
      "y_pred shape = (352, 1, 20)\n"
     ]
    }
   ],
   "source": [
    "print('y_test shape =', y_test.shape)\n",
    "###print('y_test', y_test)\n",
    "print('y_pred shape =', y_pred.shape)\n",
    "###print('y_pred', y_pred)"
   ]
  },
  {
   "cell_type": "code",
   "execution_count": 8,
   "id": "f9017ebc",
   "metadata": {},
   "outputs": [
    {
     "name": "stdout",
     "output_type": "stream",
     "text": [
      "y_test shape = (352, 20)\n",
      "y_pred shape = (352, 20)\n"
     ]
    }
   ],
   "source": [
    "# Reshape y_test and y_pred to 2D arrays\n",
    "y_test = y_test.reshape(y_test.shape[0], -1)\n",
    "y_pred = y_pred.reshape(y_pred.shape[0], -1)\n",
    "\n",
    "print('y_test shape =', y_test.shape)\n",
    "###print('y_test', y_test)\n",
    "print('y_pred shape =', y_pred.shape)\n",
    "###print('y_pred', y_pred)"
   ]
  },
  {
   "cell_type": "code",
   "execution_count": 9,
   "id": "c9ebbb07",
   "metadata": {},
   "outputs": [
    {
     "name": "stdout",
     "output_type": "stream",
     "text": [
      "y_test average = 1.0000227272727267\n"
     ]
    }
   ],
   "source": [
    "sums = []\n",
    "for row in y_test:\n",
    "    sums.append(sum(row))\n",
    "#print('y_test =', sums)\n",
    "print(\"y_test average =\", sum(sums)/len(sums))"
   ]
  },
  {
   "cell_type": "code",
   "execution_count": 10,
   "id": "2fcfd676",
   "metadata": {},
   "outputs": [
    {
     "name": "stdout",
     "output_type": "stream",
     "text": [
      "y_pred average = 1.0103619334186078\n"
     ]
    }
   ],
   "source": [
    "sums = []\n",
    "for row in y_pred:\n",
    "    sums.append(sum(row))\n",
    "#print('y_pred =', sums)\n",
    "print(\"y_pred average =\", sum(sums)/len(sums))"
   ]
  },
  {
   "cell_type": "code",
   "execution_count": 11,
   "id": "128abce8",
   "metadata": {},
   "outputs": [],
   "source": [
    "# Remove values < 0.01 and Scale predictions to get 1 (100%) as a sum of each row\n",
    "num_rows = len(y_pred)\n",
    "num_cols = len(y_pred[0])\n",
    "\n",
    "for row in range(num_rows):\n",
    "    for col in range(num_cols):\n",
    "        if y_pred[row][col] < 0.01:\n",
    "            y_pred[row][col] = 0\n",
    "\n",
    "for row in range(num_rows):\n",
    "    row_sum = sum(y_pred[row])\n",
    "    for col in range(num_cols):\n",
    "        y_pred[row][col] = y_pred[row][col] / row_sum"
   ]
  },
  {
   "cell_type": "code",
   "execution_count": 12,
   "id": "36b266fe",
   "metadata": {},
   "outputs": [
    {
     "name": "stdout",
     "output_type": "stream",
     "text": [
      "y_pred average = 1.0\n"
     ]
    }
   ],
   "source": [
    "sums = []\n",
    "for row in y_pred:\n",
    "    sums.append(sum(row))\n",
    "#print('y_pred =', sums)\n",
    "print(\"y_pred average =\", sum(sums)/len(sums))"
   ]
  },
  {
   "cell_type": "code",
   "execution_count": 13,
   "id": "9fef6456",
   "metadata": {},
   "outputs": [
    {
     "name": "stdout",
     "output_type": "stream",
     "text": [
      "[[ 1. 41. 33. ...  0.  0.  0.]\n",
      " [ 1. 69. 14. ...  0.  0.  0.]\n",
      " [ 1. 46. 28. ...  0.  0.  0.]\n",
      " ...\n",
      " [ 1. 64. 24. ...  0.  0.  0.]\n",
      " [ 1. 57. 11. ...  0.  0.  0.]\n",
      " [ 0. 51. 14. ...  0.  0.  0.]]\n"
     ]
    }
   ],
   "source": [
    "data_for_csv = df[['sex', 'age', 'state', 'risk_profile']].values\n",
    "data_train, data_test = data_for_csv[:split_index], data_for_csv[split_index:]\n",
    "array1 = data_test\n",
    "array2 = np.round(np.array(y_pred), 3)\n",
    "\n",
    "result_array = np.concatenate((array1, array2), axis=1)\n",
    "\n",
    "np.set_printoptions(suppress=True)\n",
    "print(result_array)\n",
    "\n",
    "np.savetxt('LSTM_output.csv', result_array, delimiter=\",\", fmt='%.3f')"
   ]
  },
  {
   "cell_type": "code",
   "execution_count": null,
   "id": "7dc9d9ca",
   "metadata": {},
   "outputs": [],
   "source": []
  },
  {
   "cell_type": "code",
   "execution_count": null,
   "id": "5c88d782",
   "metadata": {},
   "outputs": [],
   "source": []
  },
  {
   "cell_type": "code",
   "execution_count": null,
   "id": "5de9810c",
   "metadata": {},
   "outputs": [],
   "source": []
  }
 ],
 "metadata": {
  "kernelspec": {
   "display_name": "Python 3 (ipykernel)",
   "language": "python",
   "name": "python3"
  },
  "language_info": {
   "codemirror_mode": {
    "name": "ipython",
    "version": 3
   },
   "file_extension": ".py",
   "mimetype": "text/x-python",
   "name": "python",
   "nbconvert_exporter": "python",
   "pygments_lexer": "ipython3",
   "version": "3.10.9"
  }
 },
 "nbformat": 4,
 "nbformat_minor": 5
}
