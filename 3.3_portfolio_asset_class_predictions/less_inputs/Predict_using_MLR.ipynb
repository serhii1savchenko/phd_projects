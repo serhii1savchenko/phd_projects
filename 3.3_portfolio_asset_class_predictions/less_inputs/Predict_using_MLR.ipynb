{
 "cells": [
  {
   "cell_type": "code",
   "execution_count": 1,
   "id": "d36501f9",
   "metadata": {},
   "outputs": [
    {
     "data": {
      "text/html": [
       "<div>\n",
       "<style scoped>\n",
       "    .dataframe tbody tr th:only-of-type {\n",
       "        vertical-align: middle;\n",
       "    }\n",
       "\n",
       "    .dataframe tbody tr th {\n",
       "        vertical-align: top;\n",
       "    }\n",
       "\n",
       "    .dataframe thead th {\n",
       "        text-align: right;\n",
       "    }\n",
       "</style>\n",
       "<table border=\"1\" class=\"dataframe\">\n",
       "  <thead>\n",
       "    <tr style=\"text-align: right;\">\n",
       "      <th></th>\n",
       "      <th>client_id</th>\n",
       "      <th>sex</th>\n",
       "      <th>age</th>\n",
       "      <th>state</th>\n",
       "      <th>risk_profile</th>\n",
       "      <th>invest_goals</th>\n",
       "      <th>temp_goals</th>\n",
       "      <th>fin_exp</th>\n",
       "      <th>fin_avail</th>\n",
       "      <th>a1</th>\n",
       "      <th>...</th>\n",
       "      <th>a11</th>\n",
       "      <th>a12</th>\n",
       "      <th>a13</th>\n",
       "      <th>a14</th>\n",
       "      <th>a15</th>\n",
       "      <th>a16</th>\n",
       "      <th>a17</th>\n",
       "      <th>a18</th>\n",
       "      <th>a19</th>\n",
       "      <th>a20</th>\n",
       "    </tr>\n",
       "  </thead>\n",
       "  <tbody>\n",
       "    <tr>\n",
       "      <th>1166</th>\n",
       "      <td>5146755</td>\n",
       "      <td>1</td>\n",
       "      <td>69</td>\n",
       "      <td>25</td>\n",
       "      <td>4</td>\n",
       "      <td>14</td>\n",
       "      <td>17</td>\n",
       "      <td>10</td>\n",
       "      <td>19</td>\n",
       "      <td>0.167</td>\n",
       "      <td>...</td>\n",
       "      <td>0.0</td>\n",
       "      <td>0.095</td>\n",
       "      <td>0.0</td>\n",
       "      <td>0.020</td>\n",
       "      <td>0.0</td>\n",
       "      <td>0.0</td>\n",
       "      <td>0.181</td>\n",
       "      <td>0.000</td>\n",
       "      <td>0.000</td>\n",
       "      <td>0.0</td>\n",
       "    </tr>\n",
       "    <tr>\n",
       "      <th>1167</th>\n",
       "      <td>5738347</td>\n",
       "      <td>1</td>\n",
       "      <td>56</td>\n",
       "      <td>11</td>\n",
       "      <td>3</td>\n",
       "      <td>13</td>\n",
       "      <td>17</td>\n",
       "      <td>11</td>\n",
       "      <td>19</td>\n",
       "      <td>0.034</td>\n",
       "      <td>...</td>\n",
       "      <td>0.0</td>\n",
       "      <td>0.065</td>\n",
       "      <td>0.0</td>\n",
       "      <td>0.068</td>\n",
       "      <td>0.0</td>\n",
       "      <td>0.0</td>\n",
       "      <td>0.000</td>\n",
       "      <td>0.065</td>\n",
       "      <td>0.049</td>\n",
       "      <td>0.0</td>\n",
       "    </tr>\n",
       "    <tr>\n",
       "      <th>1168</th>\n",
       "      <td>8516725</td>\n",
       "      <td>1</td>\n",
       "      <td>64</td>\n",
       "      <td>24</td>\n",
       "      <td>4</td>\n",
       "      <td>13</td>\n",
       "      <td>17</td>\n",
       "      <td>11</td>\n",
       "      <td>19</td>\n",
       "      <td>0.178</td>\n",
       "      <td>...</td>\n",
       "      <td>0.0</td>\n",
       "      <td>0.000</td>\n",
       "      <td>0.0</td>\n",
       "      <td>0.055</td>\n",
       "      <td>0.0</td>\n",
       "      <td>0.0</td>\n",
       "      <td>0.023</td>\n",
       "      <td>0.000</td>\n",
       "      <td>0.000</td>\n",
       "      <td>0.0</td>\n",
       "    </tr>\n",
       "    <tr>\n",
       "      <th>1169</th>\n",
       "      <td>14240215</td>\n",
       "      <td>1</td>\n",
       "      <td>57</td>\n",
       "      <td>11</td>\n",
       "      <td>3</td>\n",
       "      <td>13</td>\n",
       "      <td>17</td>\n",
       "      <td>10</td>\n",
       "      <td>19</td>\n",
       "      <td>0.009</td>\n",
       "      <td>...</td>\n",
       "      <td>0.0</td>\n",
       "      <td>0.000</td>\n",
       "      <td>0.0</td>\n",
       "      <td>0.000</td>\n",
       "      <td>0.0</td>\n",
       "      <td>0.0</td>\n",
       "      <td>0.000</td>\n",
       "      <td>0.000</td>\n",
       "      <td>0.000</td>\n",
       "      <td>0.0</td>\n",
       "    </tr>\n",
       "    <tr>\n",
       "      <th>1170</th>\n",
       "      <td>14326270</td>\n",
       "      <td>0</td>\n",
       "      <td>51</td>\n",
       "      <td>14</td>\n",
       "      <td>3</td>\n",
       "      <td>13</td>\n",
       "      <td>17</td>\n",
       "      <td>11</td>\n",
       "      <td>19</td>\n",
       "      <td>0.184</td>\n",
       "      <td>...</td>\n",
       "      <td>0.0</td>\n",
       "      <td>0.000</td>\n",
       "      <td>0.0</td>\n",
       "      <td>0.006</td>\n",
       "      <td>0.0</td>\n",
       "      <td>0.0</td>\n",
       "      <td>0.018</td>\n",
       "      <td>0.000</td>\n",
       "      <td>0.000</td>\n",
       "      <td>0.0</td>\n",
       "    </tr>\n",
       "  </tbody>\n",
       "</table>\n",
       "<p>5 rows × 29 columns</p>\n",
       "</div>"
      ],
      "text/plain": [
       "      client_id  sex  age  state  risk_profile  invest_goals  temp_goals  \\\n",
       "1166    5146755    1   69     25             4            14          17   \n",
       "1167    5738347    1   56     11             3            13          17   \n",
       "1168    8516725    1   64     24             4            13          17   \n",
       "1169   14240215    1   57     11             3            13          17   \n",
       "1170   14326270    0   51     14             3            13          17   \n",
       "\n",
       "      fin_exp  fin_avail     a1  ...  a11    a12  a13    a14  a15  a16    a17  \\\n",
       "1166       10         19  0.167  ...  0.0  0.095  0.0  0.020  0.0  0.0  0.181   \n",
       "1167       11         19  0.034  ...  0.0  0.065  0.0  0.068  0.0  0.0  0.000   \n",
       "1168       11         19  0.178  ...  0.0  0.000  0.0  0.055  0.0  0.0  0.023   \n",
       "1169       10         19  0.009  ...  0.0  0.000  0.0  0.000  0.0  0.0  0.000   \n",
       "1170       11         19  0.184  ...  0.0  0.000  0.0  0.006  0.0  0.0  0.018   \n",
       "\n",
       "        a18    a19  a20  \n",
       "1166  0.000  0.000  0.0  \n",
       "1167  0.065  0.049  0.0  \n",
       "1168  0.000  0.000  0.0  \n",
       "1169  0.000  0.000  0.0  \n",
       "1170  0.000  0.000  0.0  \n",
       "\n",
       "[5 rows x 29 columns]"
      ]
     },
     "execution_count": 1,
     "metadata": {},
     "output_type": "execute_result"
    }
   ],
   "source": [
    "import pandas as pd\n",
    "import numpy as np\n",
    "from sklearn.model_selection import train_test_split\n",
    "from sklearn.linear_model import LinearRegression\n",
    "from sklearn.metrics import mean_squared_error\n",
    "from sklearn.preprocessing import LabelEncoder\n",
    "from sklearn.preprocessing import MinMaxScaler\n",
    "import math\n",
    "\n",
    "# Load data from a CSV file\n",
    "df = pd.read_csv('dataset.csv')\n",
    "\n",
    "# Apply label encoding to the 'state' column\n",
    "label_encoder = LabelEncoder()\n",
    "df['state'] = label_encoder.fit_transform(df['state'])\n",
    "\n",
    "df.tail()"
   ]
  },
  {
   "cell_type": "code",
   "execution_count": 2,
   "id": "240fdcb7",
   "metadata": {},
   "outputs": [
    {
     "name": "stdout",
     "output_type": "stream",
     "text": [
      "X_train shape = (819, 4)\n",
      "y_train shape = (819, 20)\n",
      "X_test shape = (352, 4)\n",
      "y_test shape = (352, 20)\n"
     ]
    }
   ],
   "source": [
    "# 'data' contains columns 'sex', 'age', 'state', 'risk_profile'\n",
    "data = df[['sex', 'age', 'state', 'risk_profile']].values\n",
    "\n",
    "# normalize the dataset\n",
    "scaler = MinMaxScaler(feature_range=(0, 1))\n",
    "data = scaler.fit_transform(data)\n",
    "\n",
    "# 'targets' contains columns 'a1' through 'a20'\n",
    "targets = df[['a1', 'a2', 'a3', 'a4', 'a5', 'a6', 'a7', 'a8', 'a9', 'a10', 'a11', 'a12', 'a13', 'a14', 'a15', 'a16', 'a17', 'a18', 'a19', 'a20']].values\n",
    "\n",
    "# Split the data into training and testing sets\n",
    "split_ratio = 0.7  # 70% for training, 30% for testing\n",
    "split_index = int(len(data) * split_ratio)\n",
    "\n",
    "X_train, X_test = data[:split_index], data[split_index:]\n",
    "y_train, y_test = targets[:split_index], targets[split_index:]\n",
    "\n",
    "print('X_train shape =', X_train.shape)\n",
    "print('y_train shape =', y_train.shape)\n",
    "print('X_test shape =', X_test.shape)\n",
    "print('y_test shape =', y_test.shape)"
   ]
  },
  {
   "cell_type": "code",
   "execution_count": 3,
   "id": "2e219750",
   "metadata": {},
   "outputs": [
    {
     "name": "stdout",
     "output_type": "stream",
     "text": [
      "Model Coefficients (Weights):\n",
      "[[ 3.84071417e-03 -1.15448903e-01  1.52802875e-02 -3.02925663e-01]\n",
      " [ 8.77513255e-04  2.98555218e-03  3.46316070e-03  3.79709380e-03]\n",
      " [-1.87962844e-02  4.40176624e-02 -4.94545209e-03 -8.19479449e-02]\n",
      " [-4.68489973e-03  4.69298281e-02  1.55984283e-03 -8.42631000e-03]\n",
      " [ 1.22953422e-03  1.33333207e-02  2.10457450e-03  4.89399375e-03]\n",
      " [ 2.62983913e-04 -2.27828258e-03 -9.85546699e-03  1.73326559e-02]\n",
      " [ 1.39341201e-03  3.51550034e-03 -5.28346729e-03  2.05382279e-02]\n",
      " [ 4.62044823e-03  1.74563507e-02  2.91920640e-03  3.33045370e-02]\n",
      " [ 8.13169204e-03  1.90538593e-02  7.72357589e-03  1.31189628e-01]\n",
      " [ 2.38897931e-03 -8.03831021e-03  3.13651955e-03  1.04340135e-01]\n",
      " [ 6.61217664e-05  6.55895962e-04 -9.09855694e-04  2.06489543e-03]\n",
      " [ 4.18140528e-03 -1.63306164e-02 -4.52739988e-03  6.44111757e-02]\n",
      " [ 7.16425336e-04  4.45403281e-04 -2.35520169e-03  1.17123861e-02]\n",
      " [ 1.42441410e-03 -7.30176248e-03  3.27143234e-03  1.82585864e-02]\n",
      " [ 1.25370113e-03  7.70615135e-03  1.15552786e-03  7.17883937e-03]\n",
      " [ 3.42762460e-04  3.88212618e-05  6.51184333e-04  1.19154283e-03]\n",
      " [-7.11885734e-03  4.24020599e-03  8.12520727e-04 -3.49465675e-02]\n",
      " [ 1.25080722e-03 -5.82933644e-03 -1.18293667e-02  1.07313609e-02]\n",
      " [-5.80943697e-04  2.53691025e-03 -9.58703597e-04 -1.39306921e-03]\n",
      " [-8.52815980e-04 -7.84931901e-03 -1.69576240e-03 -1.21354822e-03]]\n",
      "\n",
      "Model Intercept (Bias):\n",
      "[ 4.51810185e-01 -7.29836527e-04  2.30519776e-01  1.32815307e-01\n",
      "  2.39705831e-02  1.41657779e-02  2.12360699e-02  1.75272282e-02\n",
      " -2.63970886e-02 -1.41503327e-02 -4.75246663e-04  6.94086971e-05\n",
      " -1.22063347e-03  3.80640797e-03 -1.08259864e-03 -6.18801936e-04\n",
      "  1.28958049e-01  7.26467698e-03  3.63067123e-03  9.14358275e-03]\n"
     ]
    }
   ],
   "source": [
    "# Create and train the Multiple Linear Regression model\n",
    "model = LinearRegression()\n",
    "model.fit(X_train, y_train)\n",
    "\n",
    "# Display the model parameters\n",
    "coefficients = model.coef_\n",
    "intercept = model.intercept_\n",
    "\n",
    "print(\"Model Coefficients (Weights):\")\n",
    "print(coefficients)\n",
    "print(\"\\nModel Intercept (Bias):\")\n",
    "print(intercept)"
   ]
  },
  {
   "cell_type": "code",
   "execution_count": 4,
   "id": "64504096",
   "metadata": {},
   "outputs": [
    {
     "name": "stdout",
     "output_type": "stream",
     "text": [
      "y_test shape = (352, 20)\n",
      "y_pred shape = (352, 20)\n"
     ]
    }
   ],
   "source": [
    "# Evaluate the model\n",
    "y_pred = model.predict(X_test)\n",
    "\n",
    "print('y_test shape =', y_test.shape)\n",
    "###print('y_test', y_test)\n",
    "print('y_pred shape =', y_pred.shape)\n",
    "###print('y_pred', y_pred)"
   ]
  },
  {
   "cell_type": "code",
   "execution_count": 5,
   "id": "30c2a1a5",
   "metadata": {},
   "outputs": [
    {
     "name": "stdout",
     "output_type": "stream",
     "text": [
      "y_test average = 1.0000227272727267\n"
     ]
    }
   ],
   "source": [
    "sums = []\n",
    "for row in y_test:\n",
    "    sums.append(sum(row))\n",
    "#print('y_test =', sums)\n",
    "print(\"y_test average =\", sum(sums)/len(sums))"
   ]
  },
  {
   "cell_type": "code",
   "execution_count": 6,
   "id": "13a00a87",
   "metadata": {},
   "outputs": [
    {
     "name": "stdout",
     "output_type": "stream",
     "text": [
      "y_pred average = 1.0000360992149215\n"
     ]
    }
   ],
   "source": [
    "sums = []\n",
    "for row in y_pred:\n",
    "    sums.append(sum(row))\n",
    "#print('y_pred =', sums)\n",
    "print(\"y_pred average =\", sum(sums)/len(sums))"
   ]
  },
  {
   "cell_type": "code",
   "execution_count": 7,
   "id": "1bfccab0",
   "metadata": {},
   "outputs": [],
   "source": [
    "# Remove values < 0.01 and Scale predictions to get 1 (100%) as a sum of each row\n",
    "num_rows = len(y_pred)\n",
    "num_cols = len(y_pred[0])\n",
    "\n",
    "for row in range(num_rows):\n",
    "    for col in range(num_cols):\n",
    "        if y_pred[row][col] < 0.01:\n",
    "            y_pred[row][col] = 0\n",
    "\n",
    "for row in range(num_rows):\n",
    "    row_sum = sum(y_pred[row])\n",
    "    for col in range(num_cols):\n",
    "        y_pred[row][col] = y_pred[row][col] / row_sum"
   ]
  },
  {
   "cell_type": "code",
   "execution_count": 8,
   "id": "76488bbb",
   "metadata": {},
   "outputs": [
    {
     "name": "stdout",
     "output_type": "stream",
     "text": [
      "y_pred average = 1.0\n"
     ]
    }
   ],
   "source": [
    "sums = []\n",
    "for row in y_pred:\n",
    "    sums.append(sum(row))\n",
    "#print('y_pred =', sums)\n",
    "print(\"y_pred average =\", sum(sums)/len(sums))"
   ]
  },
  {
   "cell_type": "code",
   "execution_count": 9,
   "id": "9ecb8fe7",
   "metadata": {},
   "outputs": [
    {
     "name": "stdout",
     "output_type": "stream",
     "text": [
      "[[ 1. 41. 33. ...  0.  0.  0.]\n",
      " [ 1. 69. 14. ...  0.  0.  0.]\n",
      " [ 1. 46. 28. ...  0.  0.  0.]\n",
      " ...\n",
      " [ 1. 64. 24. ...  0.  0.  0.]\n",
      " [ 1. 57. 11. ...  0.  0.  0.]\n",
      " [ 0. 51. 14. ...  0.  0.  0.]]\n"
     ]
    }
   ],
   "source": [
    "data_for_csv = df[['sex', 'age', 'state', 'risk_profile']].values\n",
    "data_train, data_test = data_for_csv[:split_index], data_for_csv[split_index:]\n",
    "array1 = data_test\n",
    "array2 = np.round(np.array(y_pred), 3)\n",
    "\n",
    "result_array = np.concatenate((array1, array2), axis=1)\n",
    "\n",
    "np.set_printoptions(suppress=True)\n",
    "print(result_array)\n",
    "\n",
    "np.savetxt('MLR_output.csv', result_array, delimiter=\",\", fmt='%.3f')"
   ]
  },
  {
   "cell_type": "code",
   "execution_count": null,
   "id": "0962b2d9",
   "metadata": {},
   "outputs": [],
   "source": []
  },
  {
   "cell_type": "code",
   "execution_count": null,
   "id": "1a47ea28",
   "metadata": {},
   "outputs": [],
   "source": []
  },
  {
   "cell_type": "code",
   "execution_count": null,
   "id": "be62a7b6",
   "metadata": {},
   "outputs": [],
   "source": []
  }
 ],
 "metadata": {
  "kernelspec": {
   "display_name": "Python 3 (ipykernel)",
   "language": "python",
   "name": "python3"
  },
  "language_info": {
   "codemirror_mode": {
    "name": "ipython",
    "version": 3
   },
   "file_extension": ".py",
   "mimetype": "text/x-python",
   "name": "python",
   "nbconvert_exporter": "python",
   "pygments_lexer": "ipython3",
   "version": "3.10.9"
  }
 },
 "nbformat": 4,
 "nbformat_minor": 5
}
