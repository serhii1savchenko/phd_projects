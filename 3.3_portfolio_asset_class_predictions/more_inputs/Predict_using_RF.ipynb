{
 "cells": [
  {
   "cell_type": "code",
   "execution_count": 1,
   "id": "dbea1065",
   "metadata": {},
   "outputs": [],
   "source": [
    "from sklearn.ensemble import RandomForestRegressor\n",
    "from sklearn.model_selection import train_test_split\n",
    "from sklearn.metrics import mean_squared_error\n",
    "from sklearn.preprocessing import LabelEncoder\n",
    "import numpy as np\n",
    "import pandas as pd\n",
    "\n",
    "# Load data from a CSV file\n",
    "df = pd.read_csv('dataset.csv')\n",
    "\n",
    "# Apply label encoding to the 'state' column\n",
    "label_encoder = LabelEncoder()\n",
    "df['state'] = label_encoder.fit_transform(df['state'])\n",
    "\n",
    "# 'data' contains columns 'sex', 'age', 'state', 'risk_profile', 'invest_goals', 'temp_goals', 'fin_exp', 'fin_avail'\n",
    "data = df[['sex', 'age', 'state', 'risk_profile', 'invest_goals', 'temp_goals', 'fin_exp', 'fin_avail']].values\n",
    "\n",
    "# 'targets' contains columns 'a1' through 'a20'\n",
    "targets = df[['a1', 'a2', 'a3', 'a4', 'a5', 'a6', 'a7', 'a8', 'a9', 'a10', 'a11', 'a12', 'a13', 'a14', 'a15', 'a16', 'a17', 'a18', 'a19', 'a20']].values"
   ]
  },
  {
   "cell_type": "code",
   "execution_count": 2,
   "id": "e08f7ba4",
   "metadata": {},
   "outputs": [],
   "source": [
    "# Split the data into training and testing sets\n",
    "split_ratio = 0.7  # 70% for training, 30% for testing\n",
    "split_index = int(len(data) * split_ratio)\n",
    "\n",
    "X_train, X_test = data[:split_index], data[split_index:]\n",
    "y_train, y_test = targets[:split_index], targets[split_index:]"
   ]
  },
  {
   "cell_type": "code",
   "execution_count": 3,
   "id": "bb0cbbb8",
   "metadata": {},
   "outputs": [
    {
     "data": {
      "text/html": [
       "<style>#sk-container-id-1 {color: black;}#sk-container-id-1 pre{padding: 0;}#sk-container-id-1 div.sk-toggleable {background-color: white;}#sk-container-id-1 label.sk-toggleable__label {cursor: pointer;display: block;width: 100%;margin-bottom: 0;padding: 0.3em;box-sizing: border-box;text-align: center;}#sk-container-id-1 label.sk-toggleable__label-arrow:before {content: \"▸\";float: left;margin-right: 0.25em;color: #696969;}#sk-container-id-1 label.sk-toggleable__label-arrow:hover:before {color: black;}#sk-container-id-1 div.sk-estimator:hover label.sk-toggleable__label-arrow:before {color: black;}#sk-container-id-1 div.sk-toggleable__content {max-height: 0;max-width: 0;overflow: hidden;text-align: left;background-color: #f0f8ff;}#sk-container-id-1 div.sk-toggleable__content pre {margin: 0.2em;color: black;border-radius: 0.25em;background-color: #f0f8ff;}#sk-container-id-1 input.sk-toggleable__control:checked~div.sk-toggleable__content {max-height: 200px;max-width: 100%;overflow: auto;}#sk-container-id-1 input.sk-toggleable__control:checked~label.sk-toggleable__label-arrow:before {content: \"▾\";}#sk-container-id-1 div.sk-estimator input.sk-toggleable__control:checked~label.sk-toggleable__label {background-color: #d4ebff;}#sk-container-id-1 div.sk-label input.sk-toggleable__control:checked~label.sk-toggleable__label {background-color: #d4ebff;}#sk-container-id-1 input.sk-hidden--visually {border: 0;clip: rect(1px 1px 1px 1px);clip: rect(1px, 1px, 1px, 1px);height: 1px;margin: -1px;overflow: hidden;padding: 0;position: absolute;width: 1px;}#sk-container-id-1 div.sk-estimator {font-family: monospace;background-color: #f0f8ff;border: 1px dotted black;border-radius: 0.25em;box-sizing: border-box;margin-bottom: 0.5em;}#sk-container-id-1 div.sk-estimator:hover {background-color: #d4ebff;}#sk-container-id-1 div.sk-parallel-item::after {content: \"\";width: 100%;border-bottom: 1px solid gray;flex-grow: 1;}#sk-container-id-1 div.sk-label:hover label.sk-toggleable__label {background-color: #d4ebff;}#sk-container-id-1 div.sk-serial::before {content: \"\";position: absolute;border-left: 1px solid gray;box-sizing: border-box;top: 0;bottom: 0;left: 50%;z-index: 0;}#sk-container-id-1 div.sk-serial {display: flex;flex-direction: column;align-items: center;background-color: white;padding-right: 0.2em;padding-left: 0.2em;position: relative;}#sk-container-id-1 div.sk-item {position: relative;z-index: 1;}#sk-container-id-1 div.sk-parallel {display: flex;align-items: stretch;justify-content: center;background-color: white;position: relative;}#sk-container-id-1 div.sk-item::before, #sk-container-id-1 div.sk-parallel-item::before {content: \"\";position: absolute;border-left: 1px solid gray;box-sizing: border-box;top: 0;bottom: 0;left: 50%;z-index: -1;}#sk-container-id-1 div.sk-parallel-item {display: flex;flex-direction: column;z-index: 1;position: relative;background-color: white;}#sk-container-id-1 div.sk-parallel-item:first-child::after {align-self: flex-end;width: 50%;}#sk-container-id-1 div.sk-parallel-item:last-child::after {align-self: flex-start;width: 50%;}#sk-container-id-1 div.sk-parallel-item:only-child::after {width: 0;}#sk-container-id-1 div.sk-dashed-wrapped {border: 1px dashed gray;margin: 0 0.4em 0.5em 0.4em;box-sizing: border-box;padding-bottom: 0.4em;background-color: white;}#sk-container-id-1 div.sk-label label {font-family: monospace;font-weight: bold;display: inline-block;line-height: 1.2em;}#sk-container-id-1 div.sk-label-container {text-align: center;}#sk-container-id-1 div.sk-container {/* jupyter's `normalize.less` sets `[hidden] { display: none; }` but bootstrap.min.css set `[hidden] { display: none !important; }` so we also need the `!important` here to be able to override the default hidden behavior on the sphinx rendered scikit-learn.org. See: https://github.com/scikit-learn/scikit-learn/issues/21755 */display: inline-block !important;position: relative;}#sk-container-id-1 div.sk-text-repr-fallback {display: none;}</style><div id=\"sk-container-id-1\" class=\"sk-top-container\"><div class=\"sk-text-repr-fallback\"><pre>RandomForestRegressor(random_state=42)</pre><b>In a Jupyter environment, please rerun this cell to show the HTML representation or trust the notebook. <br />On GitHub, the HTML representation is unable to render, please try loading this page with nbviewer.org.</b></div><div class=\"sk-container\" hidden><div class=\"sk-item\"><div class=\"sk-estimator sk-toggleable\"><input class=\"sk-toggleable__control sk-hidden--visually\" id=\"sk-estimator-id-1\" type=\"checkbox\" checked><label for=\"sk-estimator-id-1\" class=\"sk-toggleable__label sk-toggleable__label-arrow\">RandomForestRegressor</label><div class=\"sk-toggleable__content\"><pre>RandomForestRegressor(random_state=42)</pre></div></div></div></div></div>"
      ],
      "text/plain": [
       "RandomForestRegressor(random_state=42)"
      ]
     },
     "execution_count": 3,
     "metadata": {},
     "output_type": "execute_result"
    }
   ],
   "source": [
    "# Create and train Random Forest model\n",
    "rf_model = RandomForestRegressor(n_estimators=100, random_state=42)\n",
    "rf_model.fit(X_train, y_train)"
   ]
  },
  {
   "cell_type": "code",
   "execution_count": 4,
   "id": "3ba2bee9",
   "metadata": {},
   "outputs": [],
   "source": [
    "# Make predictions on the testing data\n",
    "y_pred = rf_model.predict(X_test)"
   ]
  },
  {
   "cell_type": "code",
   "execution_count": 5,
   "id": "3ff71fd4",
   "metadata": {},
   "outputs": [
    {
     "name": "stdout",
     "output_type": "stream",
     "text": [
      "y_test average = 1.0000227272727267\n"
     ]
    }
   ],
   "source": [
    "sums = []\n",
    "for row in y_test:\n",
    "    sums.append(sum(row))\n",
    "#print('y_test =', sums)\n",
    "print(\"y_test average =\", sum(sums)/len(sums))"
   ]
  },
  {
   "cell_type": "code",
   "execution_count": 6,
   "id": "2ac6a9ca",
   "metadata": {},
   "outputs": [
    {
     "name": "stdout",
     "output_type": "stream",
     "text": [
      "y_pred average = 1.0000515764585793\n"
     ]
    }
   ],
   "source": [
    "sums = []\n",
    "for row in y_pred:\n",
    "    sums.append(sum(row))\n",
    "#print('y_pred =', sums)\n",
    "print(\"y_pred average =\", sum(sums)/len(sums))"
   ]
  },
  {
   "cell_type": "code",
   "execution_count": 7,
   "id": "f7369e1f",
   "metadata": {},
   "outputs": [],
   "source": [
    "# Remove values < 0.01 and Scale predictions to get 1 (100%) as a sum of each row\n",
    "num_rows = len(y_pred)\n",
    "num_cols = len(y_pred[0])\n",
    "\n",
    "for row in range(num_rows):\n",
    "    for col in range(num_cols):\n",
    "        if y_pred[row][col] < 0.01:\n",
    "            y_pred[row][col] = 0\n",
    "\n",
    "for row in range(num_rows):\n",
    "    row_sum = sum(y_pred[row])\n",
    "    for col in range(num_cols):\n",
    "        y_pred[row][col] = y_pred[row][col] / row_sum"
   ]
  },
  {
   "cell_type": "code",
   "execution_count": 8,
   "id": "c845afe5",
   "metadata": {},
   "outputs": [
    {
     "name": "stdout",
     "output_type": "stream",
     "text": [
      "y_pred average = 1.0\n"
     ]
    }
   ],
   "source": [
    "sums = []\n",
    "for row in y_pred:\n",
    "    sums.append(sum(row))\n",
    "#print('y_pred =', sums)\n",
    "print(\"y_pred average =\", sum(sums)/len(sums))"
   ]
  },
  {
   "cell_type": "code",
   "execution_count": 9,
   "id": "76cadf27",
   "metadata": {},
   "outputs": [
    {
     "name": "stdout",
     "output_type": "stream",
     "text": [
      "[[ 1. 41. 33. ...  0.  0.  0.]\n",
      " [ 1. 69. 14. ...  0.  0.  0.]\n",
      " [ 1. 46. 28. ...  0.  0.  0.]\n",
      " ...\n",
      " [ 1. 64. 24. ...  0.  0.  0.]\n",
      " [ 1. 57. 11. ...  0.  0.  0.]\n",
      " [ 0. 51. 14. ...  0.  0.  0.]]\n"
     ]
    }
   ],
   "source": [
    "data_for_csv = df[['sex', 'age', 'state', 'risk_profile', 'invest_goals', 'temp_goals', 'fin_exp', 'fin_avail']].values\n",
    "data_train, data_test = data_for_csv[:split_index], data_for_csv[split_index:]\n",
    "array1 = data_test\n",
    "array2 = np.round(np.array(y_pred), 3)\n",
    "\n",
    "result_array = np.concatenate((array1, array2), axis=1)\n",
    "\n",
    "np.set_printoptions(suppress=True)\n",
    "print(result_array)\n",
    "\n",
    "np.savetxt('RF_output.csv', result_array, delimiter=\",\", fmt='%.3f')"
   ]
  },
  {
   "cell_type": "code",
   "execution_count": null,
   "id": "789bd46e",
   "metadata": {},
   "outputs": [],
   "source": []
  },
  {
   "cell_type": "code",
   "execution_count": null,
   "id": "51a17985",
   "metadata": {},
   "outputs": [],
   "source": []
  },
  {
   "cell_type": "code",
   "execution_count": null,
   "id": "16ac7d62",
   "metadata": {},
   "outputs": [],
   "source": []
  }
 ],
 "metadata": {
  "kernelspec": {
   "display_name": "Python 3 (ipykernel)",
   "language": "python",
   "name": "python3"
  },
  "language_info": {
   "codemirror_mode": {
    "name": "ipython",
    "version": 3
   },
   "file_extension": ".py",
   "mimetype": "text/x-python",
   "name": "python",
   "nbconvert_exporter": "python",
   "pygments_lexer": "ipython3",
   "version": "3.10.9"
  }
 },
 "nbformat": 4,
 "nbformat_minor": 5
}
