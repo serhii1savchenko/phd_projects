{
 "cells": [
  {
   "cell_type": "code",
   "execution_count": 1,
   "id": "d36501f9",
   "metadata": {},
   "outputs": [
    {
     "data": {
      "text/html": [
       "<div>\n",
       "<style scoped>\n",
       "    .dataframe tbody tr th:only-of-type {\n",
       "        vertical-align: middle;\n",
       "    }\n",
       "\n",
       "    .dataframe tbody tr th {\n",
       "        vertical-align: top;\n",
       "    }\n",
       "\n",
       "    .dataframe thead th {\n",
       "        text-align: right;\n",
       "    }\n",
       "</style>\n",
       "<table border=\"1\" class=\"dataframe\">\n",
       "  <thead>\n",
       "    <tr style=\"text-align: right;\">\n",
       "      <th></th>\n",
       "      <th>client_id</th>\n",
       "      <th>sex</th>\n",
       "      <th>age</th>\n",
       "      <th>state</th>\n",
       "      <th>risk_profile</th>\n",
       "      <th>invest_goals</th>\n",
       "      <th>temp_goals</th>\n",
       "      <th>fin_exp</th>\n",
       "      <th>fin_avail</th>\n",
       "      <th>a1</th>\n",
       "      <th>...</th>\n",
       "      <th>a11</th>\n",
       "      <th>a12</th>\n",
       "      <th>a13</th>\n",
       "      <th>a14</th>\n",
       "      <th>a15</th>\n",
       "      <th>a16</th>\n",
       "      <th>a17</th>\n",
       "      <th>a18</th>\n",
       "      <th>a19</th>\n",
       "      <th>a20</th>\n",
       "    </tr>\n",
       "  </thead>\n",
       "  <tbody>\n",
       "    <tr>\n",
       "      <th>1166</th>\n",
       "      <td>5146755</td>\n",
       "      <td>1</td>\n",
       "      <td>69</td>\n",
       "      <td>25</td>\n",
       "      <td>4</td>\n",
       "      <td>14</td>\n",
       "      <td>17</td>\n",
       "      <td>10</td>\n",
       "      <td>19</td>\n",
       "      <td>0.167</td>\n",
       "      <td>...</td>\n",
       "      <td>0.0</td>\n",
       "      <td>0.095</td>\n",
       "      <td>0.0</td>\n",
       "      <td>0.020</td>\n",
       "      <td>0.0</td>\n",
       "      <td>0.0</td>\n",
       "      <td>0.181</td>\n",
       "      <td>0.000</td>\n",
       "      <td>0.000</td>\n",
       "      <td>0.0</td>\n",
       "    </tr>\n",
       "    <tr>\n",
       "      <th>1167</th>\n",
       "      <td>5738347</td>\n",
       "      <td>1</td>\n",
       "      <td>56</td>\n",
       "      <td>11</td>\n",
       "      <td>3</td>\n",
       "      <td>13</td>\n",
       "      <td>17</td>\n",
       "      <td>11</td>\n",
       "      <td>19</td>\n",
       "      <td>0.034</td>\n",
       "      <td>...</td>\n",
       "      <td>0.0</td>\n",
       "      <td>0.065</td>\n",
       "      <td>0.0</td>\n",
       "      <td>0.068</td>\n",
       "      <td>0.0</td>\n",
       "      <td>0.0</td>\n",
       "      <td>0.000</td>\n",
       "      <td>0.065</td>\n",
       "      <td>0.049</td>\n",
       "      <td>0.0</td>\n",
       "    </tr>\n",
       "    <tr>\n",
       "      <th>1168</th>\n",
       "      <td>8516725</td>\n",
       "      <td>1</td>\n",
       "      <td>64</td>\n",
       "      <td>24</td>\n",
       "      <td>4</td>\n",
       "      <td>13</td>\n",
       "      <td>17</td>\n",
       "      <td>11</td>\n",
       "      <td>19</td>\n",
       "      <td>0.178</td>\n",
       "      <td>...</td>\n",
       "      <td>0.0</td>\n",
       "      <td>0.000</td>\n",
       "      <td>0.0</td>\n",
       "      <td>0.055</td>\n",
       "      <td>0.0</td>\n",
       "      <td>0.0</td>\n",
       "      <td>0.023</td>\n",
       "      <td>0.000</td>\n",
       "      <td>0.000</td>\n",
       "      <td>0.0</td>\n",
       "    </tr>\n",
       "    <tr>\n",
       "      <th>1169</th>\n",
       "      <td>14240215</td>\n",
       "      <td>1</td>\n",
       "      <td>57</td>\n",
       "      <td>11</td>\n",
       "      <td>3</td>\n",
       "      <td>13</td>\n",
       "      <td>17</td>\n",
       "      <td>10</td>\n",
       "      <td>19</td>\n",
       "      <td>0.009</td>\n",
       "      <td>...</td>\n",
       "      <td>0.0</td>\n",
       "      <td>0.000</td>\n",
       "      <td>0.0</td>\n",
       "      <td>0.000</td>\n",
       "      <td>0.0</td>\n",
       "      <td>0.0</td>\n",
       "      <td>0.000</td>\n",
       "      <td>0.000</td>\n",
       "      <td>0.000</td>\n",
       "      <td>0.0</td>\n",
       "    </tr>\n",
       "    <tr>\n",
       "      <th>1170</th>\n",
       "      <td>14326270</td>\n",
       "      <td>0</td>\n",
       "      <td>51</td>\n",
       "      <td>14</td>\n",
       "      <td>3</td>\n",
       "      <td>13</td>\n",
       "      <td>17</td>\n",
       "      <td>11</td>\n",
       "      <td>19</td>\n",
       "      <td>0.184</td>\n",
       "      <td>...</td>\n",
       "      <td>0.0</td>\n",
       "      <td>0.000</td>\n",
       "      <td>0.0</td>\n",
       "      <td>0.006</td>\n",
       "      <td>0.0</td>\n",
       "      <td>0.0</td>\n",
       "      <td>0.018</td>\n",
       "      <td>0.000</td>\n",
       "      <td>0.000</td>\n",
       "      <td>0.0</td>\n",
       "    </tr>\n",
       "  </tbody>\n",
       "</table>\n",
       "<p>5 rows × 29 columns</p>\n",
       "</div>"
      ],
      "text/plain": [
       "      client_id  sex  age  state  risk_profile  invest_goals  temp_goals  \\\n",
       "1166    5146755    1   69     25             4            14          17   \n",
       "1167    5738347    1   56     11             3            13          17   \n",
       "1168    8516725    1   64     24             4            13          17   \n",
       "1169   14240215    1   57     11             3            13          17   \n",
       "1170   14326270    0   51     14             3            13          17   \n",
       "\n",
       "      fin_exp  fin_avail     a1  ...  a11    a12  a13    a14  a15  a16    a17  \\\n",
       "1166       10         19  0.167  ...  0.0  0.095  0.0  0.020  0.0  0.0  0.181   \n",
       "1167       11         19  0.034  ...  0.0  0.065  0.0  0.068  0.0  0.0  0.000   \n",
       "1168       11         19  0.178  ...  0.0  0.000  0.0  0.055  0.0  0.0  0.023   \n",
       "1169       10         19  0.009  ...  0.0  0.000  0.0  0.000  0.0  0.0  0.000   \n",
       "1170       11         19  0.184  ...  0.0  0.000  0.0  0.006  0.0  0.0  0.018   \n",
       "\n",
       "        a18    a19  a20  \n",
       "1166  0.000  0.000  0.0  \n",
       "1167  0.065  0.049  0.0  \n",
       "1168  0.000  0.000  0.0  \n",
       "1169  0.000  0.000  0.0  \n",
       "1170  0.000  0.000  0.0  \n",
       "\n",
       "[5 rows x 29 columns]"
      ]
     },
     "execution_count": 1,
     "metadata": {},
     "output_type": "execute_result"
    }
   ],
   "source": [
    "import pandas as pd\n",
    "import numpy as np\n",
    "from sklearn.model_selection import train_test_split\n",
    "from sklearn.linear_model import LinearRegression\n",
    "from sklearn.metrics import mean_squared_error\n",
    "from sklearn.preprocessing import LabelEncoder\n",
    "from sklearn.preprocessing import MinMaxScaler\n",
    "import math\n",
    "\n",
    "# Load data from a CSV file\n",
    "df = pd.read_csv('dataset.csv')\n",
    "\n",
    "# Apply label encoding to the 'state' column\n",
    "label_encoder = LabelEncoder()\n",
    "df['state'] = label_encoder.fit_transform(df['state'])\n",
    "\n",
    "df.tail()"
   ]
  },
  {
   "cell_type": "code",
   "execution_count": 2,
   "id": "240fdcb7",
   "metadata": {},
   "outputs": [
    {
     "name": "stdout",
     "output_type": "stream",
     "text": [
      "X_train shape = (819, 8)\n",
      "y_train shape = (819, 20)\n",
      "X_test shape = (352, 8)\n",
      "y_test shape = (352, 20)\n"
     ]
    }
   ],
   "source": [
    "# 'data' contains columns 'sex', 'age', 'state', 'risk_profile', 'invest_goals', 'temp_goals', 'fin_exp', 'fin_avail'\n",
    "data = df[['sex', 'age', 'state', 'risk_profile', 'invest_goals', 'temp_goals', 'fin_exp', 'fin_avail']].values\n",
    "\n",
    "# normalize the dataset\n",
    "scaler = MinMaxScaler(feature_range=(0, 1))\n",
    "data = scaler.fit_transform(data)\n",
    "\n",
    "# 'targets' contains columns 'a1' through 'a20'\n",
    "targets = df[['a1', 'a2', 'a3', 'a4', 'a5', 'a6', 'a7', 'a8', 'a9', 'a10', 'a11', 'a12', 'a13', 'a14', 'a15', 'a16', 'a17', 'a18', 'a19', 'a20']].values\n",
    "\n",
    "# Split the data into training and testing sets\n",
    "split_ratio = 0.7  # 70% for training, 30% for testing\n",
    "split_index = int(len(data) * split_ratio)\n",
    "\n",
    "X_train, X_test = data[:split_index], data[split_index:]\n",
    "y_train, y_test = targets[:split_index], targets[split_index:]\n",
    "\n",
    "print('X_train shape =', X_train.shape)\n",
    "print('y_train shape =', y_train.shape)\n",
    "print('X_test shape =', X_test.shape)\n",
    "print('y_test shape =', y_test.shape)"
   ]
  },
  {
   "cell_type": "code",
   "execution_count": 3,
   "id": "2e219750",
   "metadata": {},
   "outputs": [
    {
     "name": "stdout",
     "output_type": "stream",
     "text": [
      "Model Coefficients (Weights):\n",
      "[[ 5.11593433e-03 -1.08143730e-01  1.52287672e-02 -2.18329066e-01\n",
      "  -3.78802977e-02 -5.99889953e-02 -5.32554795e-02 -9.09292727e-02]\n",
      " [ 6.79636961e-04  3.20868759e-03  3.66857546e-03  2.78723106e-03\n",
      "  -1.36452257e-03  7.37959313e-03 -7.39963035e-04 -7.14360066e-03]\n",
      " [-1.79552072e-02  4.07457047e-02 -6.72166692e-03 -8.96449964e-02\n",
      "  -6.19747715e-03 -4.38264886e-02  4.81114540e-02  1.18749142e-01]\n",
      " [-5.26342119e-03  4.41764313e-02  1.09322176e-03 -3.18575119e-02\n",
      "   1.17022231e-02  6.07867455e-02 -3.16767233e-02  1.62438899e-02]\n",
      " [ 1.30213275e-03  1.42918257e-02  1.36624249e-03  2.79440358e-02\n",
      "  -2.45807438e-02  8.55493749e-03 -2.18428772e-02  1.27535112e-02]\n",
      " [-7.58962874e-05 -1.91857922e-03 -9.26678294e-03  1.13978690e-02\n",
      "   2.36676039e-03  6.24922873e-03  7.70785699e-03 -1.60344812e-02]\n",
      " [ 1.18350144e-03  4.47257808e-03 -5.11330335e-03  2.81866775e-02\n",
      "  -1.35450987e-02 -1.22143960e-03  8.55578790e-03  3.30185836e-04]\n",
      " [ 4.05194363e-03  1.65869724e-02  3.50180296e-03  1.31879620e-02\n",
      "   4.35935048e-03  8.98311882e-03  2.98646282e-02  1.13572391e-02]\n",
      " [ 8.28022712e-03  1.99403740e-02  7.63057035e-03  1.43174059e-01\n",
      "  -6.74754728e-04  8.31865906e-03 -3.08393584e-02 -2.71878210e-02]\n",
      " [ 1.90602183e-03 -8.86096414e-03  3.80857726e-03  8.34714262e-02\n",
      "   1.04483039e-02  8.76677038e-03  2.29809889e-02 -6.21998905e-04]\n",
      " [ 5.40445428e-05  5.28077321e-04 -8.66769800e-04 -9.82547164e-05\n",
      "   1.94463749e-03 -4.23347407e-05  1.67544075e-03 -2.49598457e-05]\n",
      " [ 4.26944268e-03 -1.87151703e-02 -4.21553043e-03  3.25152384e-02\n",
      "   3.37909458e-02 -3.97467703e-03  1.68972158e-02  4.74106456e-03]\n",
      " [ 6.52394448e-04  2.16485627e-04 -2.14595251e-03  5.68408595e-03\n",
      "   6.78631324e-03  2.49424452e-03  1.01027188e-03 -7.20333926e-03]\n",
      " [ 1.37580775e-03 -8.13168801e-03  3.48192003e-03  5.42637246e-03\n",
      "   1.26559023e-02  1.59803971e-03  6.11942749e-03 -1.43270982e-03]\n",
      " [ 1.21900027e-03  7.58919372e-03  1.36447391e-03  2.41851447e-03\n",
      "   5.84307457e-03 -2.80143861e-04  2.49869485e-03 -6.88687524e-03]\n",
      " [ 3.17107152e-04  2.04422874e-04  6.52443450e-04  3.01153671e-03\n",
      "  -2.27717558e-03  8.23834071e-04 -7.94128645e-04 -7.13589772e-04]\n",
      " [-6.58233786e-03  3.97040434e-03 -1.34390516e-04 -2.19105229e-02\n",
      "  -6.71745611e-03 -9.33101642e-03 -1.54046068e-02  2.24896737e-02]\n",
      " [ 1.03582256e-03 -5.97081609e-03 -1.15422285e-02  4.16954372e-03\n",
      "   2.07847280e-03  3.60159844e-03  9.01324481e-03 -1.41413771e-03]\n",
      " [-7.27496981e-04  2.15706150e-03 -7.27713152e-04 -9.58872532e-03\n",
      "   6.13004212e-03  4.75803471e-03  4.40657856e-03 -3.24224756e-03]\n",
      " [-8.94345738e-04 -6.51566041e-03 -1.34581028e-03  8.07016456e-03\n",
      "  -4.94044831e-03 -3.62997258e-03 -4.05272189e-03 -2.35176663e-02]]\n",
      "\n",
      "Model Intercept (Bias):\n",
      "[ 5.72430880e-01 -1.72411529e-03  1.78339229e-01  1.02622397e-01\n",
      "  3.10737418e-02  1.18848029e-02  1.92927225e-02 -1.28379230e-02\n",
      " -6.11044317e-04 -3.60067613e-02 -1.86142438e-03 -1.65942271e-02\n",
      " -1.65689450e-03 -2.92862915e-03 -5.54841437e-04  9.68107990e-05\n",
      "  1.36055477e-01 -4.95014002e-04 -2.03651082e-03  2.54713273e-02]\n"
     ]
    }
   ],
   "source": [
    "# Create and train the Multiple Linear Regression model\n",
    "model = LinearRegression()\n",
    "model.fit(X_train, y_train)\n",
    "\n",
    "# Display the model parameters\n",
    "coefficients = model.coef_\n",
    "intercept = model.intercept_\n",
    "\n",
    "print(\"Model Coefficients (Weights):\")\n",
    "print(coefficients)\n",
    "print(\"\\nModel Intercept (Bias):\")\n",
    "print(intercept)"
   ]
  },
  {
   "cell_type": "code",
   "execution_count": 4,
   "id": "64504096",
   "metadata": {},
   "outputs": [
    {
     "name": "stdout",
     "output_type": "stream",
     "text": [
      "y_test shape = (352, 20)\n",
      "y_pred shape = (352, 20)\n"
     ]
    }
   ],
   "source": [
    "# Evaluate the model\n",
    "y_pred = model.predict(X_test)\n",
    "\n",
    "print('y_test shape =', y_test.shape)\n",
    "###print('y_test', y_test)\n",
    "print('y_pred shape =', y_pred.shape)\n",
    "###print('y_pred', y_pred)"
   ]
  },
  {
   "cell_type": "code",
   "execution_count": 5,
   "id": "30c2a1a5",
   "metadata": {},
   "outputs": [
    {
     "name": "stdout",
     "output_type": "stream",
     "text": [
      "y_test average = 1.0000227272727267\n"
     ]
    }
   ],
   "source": [
    "sums = []\n",
    "for row in y_test:\n",
    "    sums.append(sum(row))\n",
    "#print('y_test =', sums)\n",
    "print(\"y_test average =\", sum(sums)/len(sums))"
   ]
  },
  {
   "cell_type": "code",
   "execution_count": 6,
   "id": "13a00a87",
   "metadata": {},
   "outputs": [
    {
     "name": "stdout",
     "output_type": "stream",
     "text": [
      "y_pred average = 1.000035432747997\n"
     ]
    }
   ],
   "source": [
    "sums = []\n",
    "for row in y_pred:\n",
    "    sums.append(sum(row))\n",
    "#print('y_pred =', sums)\n",
    "print(\"y_pred average =\", sum(sums)/len(sums))"
   ]
  },
  {
   "cell_type": "code",
   "execution_count": 7,
   "id": "1bfccab0",
   "metadata": {},
   "outputs": [],
   "source": [
    "# Remove values < 0.01 and Scale predictions to get 1 (100%) as a sum of each row\n",
    "num_rows = len(y_pred)\n",
    "num_cols = len(y_pred[0])\n",
    "\n",
    "for row in range(num_rows):\n",
    "    for col in range(num_cols):\n",
    "        if y_pred[row][col] < 0.01:\n",
    "            y_pred[row][col] = 0\n",
    "\n",
    "for row in range(num_rows):\n",
    "    row_sum = sum(y_pred[row])\n",
    "    for col in range(num_cols):\n",
    "        y_pred[row][col] = y_pred[row][col] / row_sum"
   ]
  },
  {
   "cell_type": "code",
   "execution_count": 8,
   "id": "76488bbb",
   "metadata": {},
   "outputs": [
    {
     "name": "stdout",
     "output_type": "stream",
     "text": [
      "y_pred average = 1.0\n"
     ]
    }
   ],
   "source": [
    "sums = []\n",
    "for row in y_pred:\n",
    "    sums.append(sum(row))\n",
    "#print('y_pred =', sums)\n",
    "print(\"y_pred average =\", sum(sums)/len(sums))"
   ]
  },
  {
   "cell_type": "code",
   "execution_count": 9,
   "id": "9ecb8fe7",
   "metadata": {},
   "outputs": [
    {
     "name": "stdout",
     "output_type": "stream",
     "text": [
      "[[ 1. 41. 33. ...  0.  0.  0.]\n",
      " [ 1. 69. 14. ...  0.  0.  0.]\n",
      " [ 1. 46. 28. ...  0.  0.  0.]\n",
      " ...\n",
      " [ 1. 64. 24. ...  0.  0.  0.]\n",
      " [ 1. 57. 11. ...  0.  0.  0.]\n",
      " [ 0. 51. 14. ...  0.  0.  0.]]\n"
     ]
    }
   ],
   "source": [
    "data_for_csv = df[['sex', 'age', 'state', 'risk_profile', 'invest_goals', 'temp_goals', 'fin_exp', 'fin_avail']].values\n",
    "data_train, data_test = data_for_csv[:split_index], data_for_csv[split_index:]\n",
    "array1 = data_test\n",
    "array2 = np.round(np.array(y_pred), 3)\n",
    "\n",
    "result_array = np.concatenate((array1, array2), axis=1)\n",
    "\n",
    "np.set_printoptions(suppress=True)\n",
    "print(result_array)\n",
    "\n",
    "np.savetxt('MLR_output.csv', result_array, delimiter=\",\", fmt='%.3f')"
   ]
  },
  {
   "cell_type": "code",
   "execution_count": null,
   "id": "0962b2d9",
   "metadata": {},
   "outputs": [],
   "source": []
  },
  {
   "cell_type": "code",
   "execution_count": null,
   "id": "1a47ea28",
   "metadata": {},
   "outputs": [],
   "source": []
  },
  {
   "cell_type": "code",
   "execution_count": null,
   "id": "be62a7b6",
   "metadata": {},
   "outputs": [],
   "source": []
  }
 ],
 "metadata": {
  "kernelspec": {
   "display_name": "Python 3 (ipykernel)",
   "language": "python",
   "name": "python3"
  },
  "language_info": {
   "codemirror_mode": {
    "name": "ipython",
    "version": 3
   },
   "file_extension": ".py",
   "mimetype": "text/x-python",
   "name": "python",
   "nbconvert_exporter": "python",
   "pygments_lexer": "ipython3",
   "version": "3.10.9"
  }
 },
 "nbformat": 4,
 "nbformat_minor": 5
}
